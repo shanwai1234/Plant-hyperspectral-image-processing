{
 "cells": [
  {
   "cell_type": "code",
   "execution_count": 206,
   "metadata": {},
   "outputs": [
    {
     "data": {
      "text/html": [
       "<div>\n",
       "<style scoped>\n",
       "    .dataframe tbody tr th:only-of-type {\n",
       "        vertical-align: middle;\n",
       "    }\n",
       "\n",
       "    .dataframe tbody tr th {\n",
       "        vertical-align: top;\n",
       "    }\n",
       "\n",
       "    .dataframe thead th {\n",
       "        text-align: right;\n",
       "    }\n",
       "</style>\n",
       "<table border=\"1\" class=\"dataframe\">\n",
       "  <thead>\n",
       "    <tr style=\"text-align: right;\">\n",
       "      <th></th>\n",
       "      <th>Gene</th>\n",
       "      <th>BaseMean</th>\n",
       "      <th>Log2Fold</th>\n",
       "      <th>Pvalue</th>\n",
       "    </tr>\n",
       "  </thead>\n",
       "  <tbody>\n",
       "    <tr>\n",
       "      <th>0</th>\n",
       "      <td>Pgl_GLEAN_10005356</td>\n",
       "      <td>257.588333</td>\n",
       "      <td>-0.076667</td>\n",
       "      <td>0.347962</td>\n",
       "    </tr>\n",
       "    <tr>\n",
       "      <th>1</th>\n",
       "      <td>Pgl_GLEAN_10038194</td>\n",
       "      <td>30.011667</td>\n",
       "      <td>-0.471667</td>\n",
       "      <td>0.449496</td>\n",
       "    </tr>\n",
       "    <tr>\n",
       "      <th>2</th>\n",
       "      <td>Pgl_GLEAN_10027414</td>\n",
       "      <td>84.375000</td>\n",
       "      <td>0.083333</td>\n",
       "      <td>0.685954</td>\n",
       "    </tr>\n",
       "    <tr>\n",
       "      <th>3</th>\n",
       "      <td>Pgl_GLEAN_10038163</td>\n",
       "      <td>29.290000</td>\n",
       "      <td>0.223333</td>\n",
       "      <td>0.675698</td>\n",
       "    </tr>\n",
       "    <tr>\n",
       "      <th>4</th>\n",
       "      <td>Pgl_GLEAN_10020883</td>\n",
       "      <td>3.830000</td>\n",
       "      <td>3.120000</td>\n",
       "      <td>0.048956</td>\n",
       "    </tr>\n",
       "  </tbody>\n",
       "</table>\n",
       "</div>"
      ],
      "text/plain": [
       "                 Gene    BaseMean  Log2Fold    Pvalue\n",
       "0  Pgl_GLEAN_10005356  257.588333 -0.076667  0.347962\n",
       "1  Pgl_GLEAN_10038194   30.011667 -0.471667  0.449496\n",
       "2  Pgl_GLEAN_10027414   84.375000  0.083333  0.685954\n",
       "3  Pgl_GLEAN_10038163   29.290000  0.223333  0.675698\n",
       "4  Pgl_GLEAN_10020883    3.830000  3.120000  0.048956"
      ]
     },
     "execution_count": 206,
     "metadata": {},
     "output_type": "execute_result"
    }
   ],
   "source": [
    "import pandas as pd\n",
    "\n",
    "df = pd.read_csv('6timepoints-FourSpecies-addbase-filter-addsignificant.csv',sep=',')\n",
    "df.head()"
   ]
  },
  {
   "cell_type": "code",
   "execution_count": 207,
   "metadata": {},
   "outputs": [],
   "source": [
    "positive = df[(df.Log2Fold >= 2) & (df.Pvalue < 0.05)]\n",
    "negative = df[(df.Log2Fold <= -2) & (df.Pvalue < 0.05)]\n",
    "middle = df[(df.Log2Fold >= -0.1) & (df.Log2Fold <= 0.1)]"
   ]
  },
  {
   "cell_type": "code",
   "execution_count": 208,
   "metadata": {},
   "outputs": [
    {
     "data": {
      "text/plain": [
       "(109173, 4)"
      ]
     },
     "execution_count": 208,
     "metadata": {},
     "output_type": "execute_result"
    }
   ],
   "source": [
    "df.shape"
   ]
  },
  {
   "cell_type": "code",
   "execution_count": 209,
   "metadata": {},
   "outputs": [
    {
     "name": "stdout",
     "output_type": "stream",
     "text": [
      "18.56 14.26 49.483000000000004 15.97\n"
     ]
    }
   ],
   "source": [
    "import numpy as np\n",
    "\n",
    "x = np.median(positive.BaseMean)\n",
    "y = np.median(negative.BaseMean)\n",
    "z = np.median(middle.BaseMean)\n",
    "\n",
    "big = pd.concat([positive, negative])\n",
    "b = np.median(big.BaseMean)\n",
    "print x,y,z,b"
   ]
  },
  {
   "cell_type": "code",
   "execution_count": 210,
   "metadata": {},
   "outputs": [
    {
     "name": "stdout",
     "output_type": "stream",
     "text": [
      "27861.06 9435.88 3033.95\n"
     ]
    }
   ],
   "source": [
    "mx = max(positive.BaseMean)\n",
    "my = max(negative.BaseMean)\n",
    "mz = max(middle.BaseMean)\n",
    "print mx,my,mz"
   ]
  },
  {
   "cell_type": "code",
   "execution_count": 211,
   "metadata": {},
   "outputs": [
    {
     "name": "stdout",
     "output_type": "stream",
     "text": [
      "6963 5277 20264\n"
     ]
    }
   ],
   "source": [
    "a = len(positive.BaseMean)\n",
    "b = len(negative.BaseMean)\n",
    "c = len(df_row.BaseMean)\n",
    "print a,b,c"
   ]
  },
  {
   "cell_type": "code",
   "execution_count": 281,
   "metadata": {},
   "outputs": [],
   "source": [
    "#=================== using top smallest log2fold change value to represent the total negative controls ========#\n",
    "\n",
    "positive = df[(df.Log2Fold >= 2) & (df.Pvalue < 0.05)]\n",
    "negative = df[(df.Log2Fold <= -2) & (df.Pvalue < 0.05)]\n",
    "middle = df[(df.Log2Fold >= -0.1) & (df.Log2Fold <= 0.1)]"
   ]
  },
  {
   "cell_type": "code",
   "execution_count": 282,
   "metadata": {},
   "outputs": [],
   "source": [
    "sm = middle[(middle.BaseMean >=1) & (middle.BaseMean <=100)]\n",
    "sm100 = middle[middle.BaseMean > 100].sample(frac=0.1)\n",
    "#sm500 = middle[middle.BaseMean > 500].sample(frac=0.05)\n",
    "middle = pd.concat([sm, sm100])\n",
    "middle['AbsLog2Fold'] = abs(middle['Log2Fold'])\n",
    "mymiddle = middle.sort_values(by=['AbsLog2Fold'])\n",
    "fmiddle = mymiddle[:(a+b)]\n",
    "pmiddle = mymiddle[:a]\n",
    "nmiddle = mymiddle[:b]"
   ]
  },
  {
   "cell_type": "code",
   "execution_count": 283,
   "metadata": {},
   "outputs": [
    {
     "name": "stdout",
     "output_type": "stream",
     "text": [
      "12240 27.7745\n",
      "18.56 14.26\n"
     ]
    }
   ],
   "source": [
    "print len(fmiddle.AbsLog2Fold),np.median(fmiddle.BaseMean)\n",
    "print x,y"
   ]
  },
  {
   "cell_type": "code",
   "execution_count": 284,
   "metadata": {},
   "outputs": [],
   "source": [
    "fmiddle.to_csv('6timepoints-FourSpecies-addbase-filter-addsignificant-middle-samepos_neg.csv')\n",
    "pmiddle.to_csv('6timepoints-FourSpecies-addbase-filter-addsignificant-middle-samepos.csv')\n",
    "nmiddle.to_csv('6timepoints-FourSpecies-addbase-filter-addsignificant-middle-sameneg.csv')\n",
    "positive.to_csv('6timepoints-FourSpecies-addbase-filter-addsignificant-positive.csv')\n",
    "negative.to_csv('6timepoints-FourSpecies-addbase-filter-addsignificant-negative.csv')\n",
    "\n",
    "#==================== end ====================================================================================#"
   ]
  },
  {
   "cell_type": "code",
   "execution_count": 19,
   "metadata": {},
   "outputs": [
    {
     "name": "stdout",
     "output_type": "stream",
     "text": [
      "23.107 11240\n"
     ]
    }
   ],
   "source": [
    "sm = middle[(middle.BaseMean <= 80) & (middle.BaseMean >= 1)]\n",
    "sm100 = middle[middle.BaseMean > 100].sample(frac=0.08)\n",
    "sm500 = middle[middle.BaseMean > 500].sample(frac=0.05)\n",
    "df_row = pd.concat([sm, sm100, sm500])\n",
    "\n",
    "print np.median(df_row.BaseMean), len(df_row.BaseMean)"
   ]
  },
  {
   "cell_type": "code",
   "execution_count": 20,
   "metadata": {},
   "outputs": [],
   "source": [
    "df_row.to_csv('6timepoints-FourSpecies-addbase-filter-addsignificant-middle-log2as01.csv')\n",
    "positive.to_csv('6timepoints-FourSpecies-addbase-filter-addsignificant-positive-log2as01.csv')\n",
    "negative.to_csv('6timepoints-FourSpecies-addbase-filter-addsignificant-negative-log2as01.csv')"
   ]
  },
  {
   "cell_type": "code",
   "execution_count": 57,
   "metadata": {},
   "outputs": [
    {
     "data": {
      "text/plain": [
       "Ttest_indResult(statistic=20.41413699044386, pvalue=8.813872177281352e-92)"
      ]
     },
     "execution_count": 57,
     "metadata": {},
     "output_type": "execute_result"
    }
   ],
   "source": [
    "from scipy import stats\n",
    "\n",
    "stats.ttest_ind(positive.BaseMean,sm.BaseMean)"
   ]
  },
  {
   "cell_type": "code",
   "execution_count": 64,
   "metadata": {},
   "outputs": [
    {
     "data": {
      "text/plain": [
       "<matplotlib.axes._subplots.AxesSubplot at 0x7f2fca8db350>"
      ]
     },
     "execution_count": 64,
     "metadata": {},
     "output_type": "execute_result"
    },
    {
     "data": {
      "image/png": "[encoded data removed]",
      "text/plain": [
       "<Figure size 432x288 with 1 Axes>"
      ]
     },
     "metadata": {},
     "output_type": "display_data"
    }
   ],
   "source": [
    "import seaborn as sns\n",
    "\n",
    "sm.BaseMean.plot.kde(xlim=(-20,80))"
   ]
  },
  {
   "cell_type": "code",
   "execution_count": 63,
   "metadata": {},
   "outputs": [
    {
     "data": {
      "text/plain": [
       "<matplotlib.axes._subplots.AxesSubplot at 0x7f2fca90ccd0>"
      ]
     },
     "execution_count": 63,
     "metadata": {},
     "output_type": "execute_result"
    },
    {
     "data": {
      "image/png": "[encoded data removed]",
      "text/plain": [
       "<Figure size 432x288 with 1 Axes>"
      ]
     },
     "metadata": {},
     "output_type": "display_data"
    }
   ],
   "source": [
    "sm_positive = positive[(positive.BaseMean > -20) & (positive.BaseMean) < 80]\n",
    "sm_positive.BaseMean.plot.kde(xlim=(-20,80))"
   ]
  },
  {
   "cell_type": "code",
   "execution_count": 188,
   "metadata": {},
   "outputs": [
    {
     "data": {
      "text/html": [
       "<div>\n",
       "<style scoped>\n",
       "    .dataframe tbody tr th:only-of-type {\n",
       "        vertical-align: middle;\n",
       "    }\n",
       "\n",
       "    .dataframe tbody tr th {\n",
       "        vertical-align: top;\n",
       "    }\n",
       "\n",
       "    .dataframe thead th {\n",
       "        text-align: right;\n",
       "    }\n",
       "</style>\n",
       "<table border=\"1\" class=\"dataframe\">\n",
       "  <thead>\n",
       "    <tr style=\"text-align: right;\">\n",
       "      <th></th>\n",
       "      <th>Gene</th>\n",
       "      <th>A_Body</th>\n",
       "      <th>T_Body</th>\n",
       "      <th>C_Body</th>\n",
       "      <th>G_Body</th>\n",
       "      <th>AA_Body</th>\n",
       "      <th>AT_Body</th>\n",
       "      <th>AC_Body</th>\n",
       "      <th>AG_Body</th>\n",
       "      <th>TA_Body</th>\n",
       "      <th>...</th>\n",
       "      <th>Lysratio</th>\n",
       "      <th>Metratio</th>\n",
       "      <th>Pheratio</th>\n",
       "      <th>Proratio</th>\n",
       "      <th>Serratio</th>\n",
       "      <th>Thrratio</th>\n",
       "      <th>Trpratio</th>\n",
       "      <th>Tyrratio</th>\n",
       "      <th>Valratio</th>\n",
       "      <th>Class</th>\n",
       "    </tr>\n",
       "  </thead>\n",
       "  <tbody>\n",
       "    <tr>\n",
       "      <th>0</th>\n",
       "      <td>Pgl_GLEAN_10000040</td>\n",
       "      <td>0.319820</td>\n",
       "      <td>0.264264</td>\n",
       "      <td>0.198198</td>\n",
       "      <td>0.217718</td>\n",
       "      <td>0.078078</td>\n",
       "      <td>0.087087</td>\n",
       "      <td>0.057057</td>\n",
       "      <td>0.076577</td>\n",
       "      <td>0.081081</td>\n",
       "      <td>...</td>\n",
       "      <td>0.036199</td>\n",
       "      <td>0.027149</td>\n",
       "      <td>0.027149</td>\n",
       "      <td>0.036199</td>\n",
       "      <td>0.072398</td>\n",
       "      <td>0.072398</td>\n",
       "      <td>0.004525</td>\n",
       "      <td>0.013575</td>\n",
       "      <td>0.063348</td>\n",
       "      <td>1.0</td>\n",
       "    </tr>\n",
       "    <tr>\n",
       "      <th>1</th>\n",
       "      <td>Pgl_GLEAN_10000045</td>\n",
       "      <td>0.156695</td>\n",
       "      <td>0.142450</td>\n",
       "      <td>0.378917</td>\n",
       "      <td>0.321937</td>\n",
       "      <td>0.019943</td>\n",
       "      <td>0.022792</td>\n",
       "      <td>0.025641</td>\n",
       "      <td>0.085470</td>\n",
       "      <td>0.005698</td>\n",
       "      <td>...</td>\n",
       "      <td>0.043103</td>\n",
       "      <td>0.025862</td>\n",
       "      <td>0.043103</td>\n",
       "      <td>0.258621</td>\n",
       "      <td>0.060345</td>\n",
       "      <td>0.017241</td>\n",
       "      <td>0.000000</td>\n",
       "      <td>0.000000</td>\n",
       "      <td>0.077586</td>\n",
       "      <td>0.0</td>\n",
       "    </tr>\n",
       "    <tr>\n",
       "      <th>2</th>\n",
       "      <td>Pgl_GLEAN_10000048</td>\n",
       "      <td>0.238095</td>\n",
       "      <td>0.104762</td>\n",
       "      <td>0.266667</td>\n",
       "      <td>0.390476</td>\n",
       "      <td>0.057143</td>\n",
       "      <td>0.009524</td>\n",
       "      <td>0.042857</td>\n",
       "      <td>0.119048</td>\n",
       "      <td>0.019048</td>\n",
       "      <td>...</td>\n",
       "      <td>0.115942</td>\n",
       "      <td>0.014493</td>\n",
       "      <td>0.014493</td>\n",
       "      <td>0.028986</td>\n",
       "      <td>0.086957</td>\n",
       "      <td>0.043478</td>\n",
       "      <td>0.000000</td>\n",
       "      <td>0.028986</td>\n",
       "      <td>0.028986</td>\n",
       "      <td>2.0</td>\n",
       "    </tr>\n",
       "    <tr>\n",
       "      <th>3</th>\n",
       "      <td>Pgl_GLEAN_10000050</td>\n",
       "      <td>0.248175</td>\n",
       "      <td>0.287105</td>\n",
       "      <td>0.195864</td>\n",
       "      <td>0.268856</td>\n",
       "      <td>0.055961</td>\n",
       "      <td>0.063260</td>\n",
       "      <td>0.036496</td>\n",
       "      <td>0.076642</td>\n",
       "      <td>0.040146</td>\n",
       "      <td>...</td>\n",
       "      <td>0.051282</td>\n",
       "      <td>0.010989</td>\n",
       "      <td>0.047619</td>\n",
       "      <td>0.047619</td>\n",
       "      <td>0.117216</td>\n",
       "      <td>0.036630</td>\n",
       "      <td>0.007326</td>\n",
       "      <td>0.025641</td>\n",
       "      <td>0.098901</td>\n",
       "      <td>0.0</td>\n",
       "    </tr>\n",
       "    <tr>\n",
       "      <th>4</th>\n",
       "      <td>Pgl_GLEAN_10000055</td>\n",
       "      <td>0.360215</td>\n",
       "      <td>0.178763</td>\n",
       "      <td>0.172043</td>\n",
       "      <td>0.288978</td>\n",
       "      <td>0.083333</td>\n",
       "      <td>0.049731</td>\n",
       "      <td>0.072581</td>\n",
       "      <td>0.120968</td>\n",
       "      <td>0.048387</td>\n",
       "      <td>...</td>\n",
       "      <td>0.068826</td>\n",
       "      <td>0.016194</td>\n",
       "      <td>0.004049</td>\n",
       "      <td>0.048583</td>\n",
       "      <td>0.032389</td>\n",
       "      <td>0.145749</td>\n",
       "      <td>0.000000</td>\n",
       "      <td>0.000000</td>\n",
       "      <td>0.109312</td>\n",
       "      <td>0.0</td>\n",
       "    </tr>\n",
       "  </tbody>\n",
       "</table>\n",
       "<p>5 rows × 82 columns</p>\n",
       "</div>"
      ],
      "text/plain": [
       "                 Gene    A_Body    T_Body    C_Body    G_Body   AA_Body  \\\n",
       "0  Pgl_GLEAN_10000040  0.319820  0.264264  0.198198  0.217718  0.078078   \n",
       "1  Pgl_GLEAN_10000045  0.156695  0.142450  0.378917  0.321937  0.019943   \n",
       "2  Pgl_GLEAN_10000048  0.238095  0.104762  0.266667  0.390476  0.057143   \n",
       "3  Pgl_GLEAN_10000050  0.248175  0.287105  0.195864  0.268856  0.055961   \n",
       "4  Pgl_GLEAN_10000055  0.360215  0.178763  0.172043  0.288978  0.083333   \n",
       "\n",
       "    AT_Body   AC_Body   AG_Body   TA_Body  ...    Lysratio  Metratio  \\\n",
       "0  0.087087  0.057057  0.076577  0.081081  ...    0.036199  0.027149   \n",
       "1  0.022792  0.025641  0.085470  0.005698  ...    0.043103  0.025862   \n",
       "2  0.009524  0.042857  0.119048  0.019048  ...    0.115942  0.014493   \n",
       "3  0.063260  0.036496  0.076642  0.040146  ...    0.051282  0.010989   \n",
       "4  0.049731  0.072581  0.120968  0.048387  ...    0.068826  0.016194   \n",
       "\n",
       "   Pheratio  Proratio  Serratio  Thrratio  Trpratio  Tyrratio  Valratio  Class  \n",
       "0  0.027149  0.036199  0.072398  0.072398  0.004525  0.013575  0.063348    1.0  \n",
       "1  0.043103  0.258621  0.060345  0.017241  0.000000  0.000000  0.077586    0.0  \n",
       "2  0.014493  0.028986  0.086957  0.043478  0.000000  0.028986  0.028986    2.0  \n",
       "3  0.047619  0.047619  0.117216  0.036630  0.007326  0.025641  0.098901    0.0  \n",
       "4  0.004049  0.048583  0.032389  0.145749  0.000000  0.000000  0.109312    0.0  \n",
       "\n",
       "[5 rows x 82 columns]"
      ]
     },
     "execution_count": 188,
     "metadata": {},
     "output_type": "execute_result"
    }
   ],
   "source": [
    "four = pd.read_csv('MachineLearning/FourSpecies_allfeatures_RFformat.csv')\n",
    "four.head()"
   ]
  },
  {
   "cell_type": "code",
   "execution_count": 189,
   "metadata": {},
   "outputs": [
    {
     "data": {
      "text/plain": [
       "(51749, 82)"
      ]
     },
     "execution_count": 189,
     "metadata": {},
     "output_type": "execute_result"
    }
   ],
   "source": [
    "four.shape"
   ]
  },
  {
   "cell_type": "code",
   "execution_count": 190,
   "metadata": {},
   "outputs": [
    {
     "data": {
      "text/plain": [
       "<matplotlib.axes._subplots.AxesSubplot at 0x7f2fc17d3bd0>"
      ]
     },
     "execution_count": 190,
     "metadata": {},
     "output_type": "execute_result"
    },
    {
     "data": {
      "image/png": "[encoded data removed]",
      "text/plain": [
       "<Figure size 792x648 with 2 Axes>"
      ]
     },
     "metadata": {},
     "output_type": "display_data"
    }
   ],
   "source": [
    "# generate the correlation matrix between variables \n",
    "from string import ascii_letters\n",
    "import numpy as np\n",
    "import pandas as pd\n",
    "import seaborn as sns\n",
    "import matplotlib.pyplot as plt\n",
    "\n",
    "# data organization\n",
    "four_df = four.drop(columns=['Gene','Class'])\n",
    "corr = four_df.corr()\n",
    "\n",
    "# Generate a mask for the upper triangle\n",
    "mask = np.zeros_like(corr, dtype=np.bool)\n",
    "mask[np.triu_indices_from(mask)] = True\n",
    "\n",
    "# Set up the matplotlib figure\n",
    "f, ax = plt.subplots(figsize=(11, 9))\n",
    "\n",
    "# Generate a custom diverging colormap\n",
    "cmap = sns.diverging_palette(220, 10, as_cmap=True)\n",
    "\n",
    "# Draw the heatmap with the mask and correct aspect ratio\n",
    "\n",
    "sns.heatmap(corr, mask=mask, cmap=cmap, vmax=.3, center=0,\n",
    "            square=True, linewidths=.5, cbar_kws={\"shrink\": .5},\n",
    "           xticklabels=True, yticklabels=True)"
   ]
  },
  {
   "cell_type": "code",
   "execution_count": 191,
   "metadata": {},
   "outputs": [
    {
     "data": {
      "text/plain": [
       "array([1., 0., 2.])"
      ]
     },
     "execution_count": 191,
     "metadata": {},
     "output_type": "execute_result"
    }
   ],
   "source": [
    "clean_four = four.dropna()\n",
    "clean_four.Class.unique()"
   ]
  },
  {
   "cell_type": "code",
   "execution_count": 192,
   "metadata": {},
   "outputs": [
    {
     "name": "stdout",
     "output_type": "stream",
     "text": [
      "39142 6803 5208\n"
     ]
    }
   ],
   "source": [
    "x = clean_four[clean_four.Class == 0]\n",
    "y = clean_four[clean_four.Class == 1]\n",
    "z = clean_four[clean_four.Class == 2]\n",
    "print len(x),len(y),len(z)"
   ]
  },
  {
   "cell_type": "code",
   "execution_count": 197,
   "metadata": {},
   "outputs": [],
   "source": [
    "# start the data organization for random forest\n",
    "\n",
    "# Labels are the values we want to predict\n",
    "# now we are making prediction for Class 0 vs. 1\n",
    "subx = y.sample(frac=0.8, random_state=100)\n",
    "temp = pd.concat([subx, z])\n",
    "ndata = temp.sample(frac=1, random_state=10)\n",
    "\n",
    "ndata.to_csv(\"1vs2_sample_predictions.csv\")"
   ]
  },
  {
   "cell_type": "code",
   "execution_count": 129,
   "metadata": {},
   "outputs": [],
   "source": [
    "labels = np.array(ndata['Class'].astype('category'))\n",
    "\n",
    "# Remove the labels from the features\n",
    "# axis 1 refers to the columns\n",
    "ndata = ndata.drop('Gene', axis=1)\n",
    "features = ndata.drop('Class', axis = 1)\n",
    "\n",
    "# Saving feature names for later use\n",
    "feature_list = list(features.columns)\n",
    "\n",
    "# Convert to numpy array\n",
    "features = np.array(features)"
   ]
  },
  {
   "cell_type": "code",
   "execution_count": 115,
   "metadata": {},
   "outputs": [],
   "source": [
    "# Using Skicit-learn to split data into training and testing sets\n",
    "from sklearn.model_selection import train_test_split\n",
    "\n",
    "# Split the data into training and testing sets\n",
    "train_features, test_features, train_labels, test_labels = train_test_split(features, labels, test_size = 0.20, random_state = 42)"
   ]
  },
  {
   "cell_type": "code",
   "execution_count": 116,
   "metadata": {},
   "outputs": [
    {
     "name": "stdout",
     "output_type": "stream",
     "text": [
      "('Training Features Shape:', (4768, 80))\n",
      "('Training Labels Shape:', (4768,))\n",
      "('Testing Features Shape:', (1192, 80))\n",
      "('Testing Labels Shape:', (1192,))\n"
     ]
    }
   ],
   "source": [
    "print('Training Features Shape:', train_features.shape)\n",
    "print('Training Labels Shape:', train_labels.shape)\n",
    "print('Testing Features Shape:', test_features.shape)\n",
    "print('Testing Labels Shape:', test_labels.shape)"
   ]
  },
  {
   "cell_type": "code",
   "execution_count": 22,
   "metadata": {},
   "outputs": [],
   "source": [
    "# Start model training\n",
    "from sklearn.ensemble import RandomForestRegressor\n",
    "\n",
    "rf = RandomForestRegressor(n_estimators = 500, random_state = 42)"
   ]
  },
  {
   "cell_type": "code",
   "execution_count": 23,
   "metadata": {},
   "outputs": [
    {
     "ename": "NameError",
     "evalue": "name 'train_features' is not defined",
     "output_type": "error",
     "traceback": [
      "\u001b[0;31m---------------------------------------------------------------------------\u001b[0m",
      "\u001b[0;31mNameError\u001b[0m                                 Traceback (most recent call last)",
      "\u001b[0;32m<ipython-input-23-b7ede37c3632>\u001b[0m in \u001b[0;36m<module>\u001b[0;34m()\u001b[0m\n\u001b[0;32m----> 1\u001b[0;31m \u001b[0mrf\u001b[0m\u001b[0;34m.\u001b[0m\u001b[0mfit\u001b[0m\u001b[0;34m(\u001b[0m\u001b[0mtrain_features\u001b[0m\u001b[0;34m,\u001b[0m \u001b[0mtrain_labels\u001b[0m\u001b[0;34m)\u001b[0m\u001b[0;34m\u001b[0m\u001b[0m\n\u001b[0m",
      "\u001b[0;31mNameError\u001b[0m: name 'train_features' is not defined"
     ]
    }
   ],
   "source": [
    "rf.fit(train_features, train_labels)"
   ]
  },
  {
   "cell_type": "code",
   "execution_count": null,
   "metadata": {},
   "outputs": [],
   "source": [
    "# looking at out of bag score\n",
    "\n",
    "rf.oob_score_"
   ]
  },
  {
   "cell_type": "code",
   "execution_count": null,
   "metadata": {},
   "outputs": [],
   "source": [
    "# give the roc auc score\n",
    "\n",
    "y_oob = rf.oob_prediction_\n",
    "print \"c-stat:\", roc_auc_score(y, y_oob)"
   ]
  },
  {
   "cell_type": "code",
   "execution_count": 127,
   "metadata": {},
   "outputs": [
    {
     "name": "stderr",
     "output_type": "stream",
     "text": [
      "/usr/local/lib/python2.7/dist-packages/sklearn/metrics/ranking.py:656: UndefinedMetricWarning: No positive samples in y_true, true positive value should be meaningless\n",
      "  UndefinedMetricWarning)\n"
     ]
    }
   ],
   "source": [
    "from sklearn import metrics\n",
    "\n",
    "predictions = rf.predict(test_features)\n",
    "# Calculate the absolute errors\n",
    "errors = abs(predictions - test_labels)\n",
    "# Calculate and display accuracy\n",
    "predictions\n",
    "fpr, tpr, thresholds = metrics.roc_curve(test_labels, predictions, pos_label=2)"
   ]
  }
 ],
 "metadata": {
  "kernelspec": {
   "display_name": "Python 2",
   "language": "python",
   "name": "python2"
  },
  "language_info": {
   "codemirror_mode": {
    "name": "ipython",
    "version": 2
   },
   "file_extension": ".py",
   "mimetype": "text/x-python",
   "name": "python",
   "nbconvert_exporter": "python",
   "pygments_lexer": "ipython2",
   "version": "2.7.15rc1"
  }
 },
 "nbformat": 4,
 "nbformat_minor": 2
}
