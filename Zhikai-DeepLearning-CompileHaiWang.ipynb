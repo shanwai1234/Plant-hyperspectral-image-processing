{
 "cells": [
  {
   "cell_type": "code",
   "execution_count": 3,
   "metadata": {},
   "outputs": [
    {
     "name": "stderr",
     "output_type": "stream",
     "text": [
      "Using TensorFlow backend.\n"
     ]
    }
   ],
   "source": [
    "from sequence_extractor import *\n",
    "import pickle\n",
    "from sklearn.preprocessing import OneHotEncoder\n",
    "import numpy as np\n",
    "import keras\n",
    "from keras.callbacks import ModelCheckpoint, CSVLogger, ReduceLROnPlateau, EarlyStopping, TensorBoard\n",
    "from keras import regularizers\n",
    "from keras.models import Model, Sequential\n",
    "from keras.layers import Input, Dense, Conv1D, Conv2D, Flatten, MaxPooling1D, MaxPooling2D, Dropout, Activation\n",
    "import gzip"
   ]
  },
  {
   "cell_type": "code",
   "execution_count": 4,
   "metadata": {},
   "outputs": [],
   "source": [
    "# Deep Learning model using Hai Wang's benchmark\n",
    "\n",
    "def hw_model(in_shape):\n",
    "    model=Sequential()\n",
    "    model.add(Conv2D(64,kernel_size=(8,5),padding='valid',input_shape=in_shape))\n",
    "    model.add(Activation('relu'))\n",
    "    model.add(Conv2D(64,kernel_size=(8,1),padding='same'))\n",
    "    model.add(Activation('relu'))\n",
    "    model.add(MaxPooling2D(pool_size=(8,1),strides=(8,1),padding='same'))\n",
    "    model.add(Dropout(0.25))\n",
    "\n",
    "    model.add(Conv2D(128,kernel_size=(8,1),padding='same'))\n",
    "    model.add(Activation('relu'))\n",
    "    model.add(Conv2D(128,kernel_size=(8,1),padding='same'))\n",
    "    model.add(Activation('relu'))\n",
    "    model.add(MaxPooling2D(pool_size=(8,1),strides=(8,1),padding='same'))\n",
    "    model.add(Dropout(0.25))\n",
    "\n",
    "    model.add(Conv2D(64,kernel_size=(8,1),padding='same'))\n",
    "    model.add(Activation('relu'))\n",
    "    model.add(Conv2D(64,kernel_size=(8,1),padding='same'))\n",
    "    model.add(Activation('relu'))\n",
    "    model.add(MaxPooling2D(pool_size=(8,1),strides=(8,1),padding='same'))\n",
    "    model.add(Dropout(0.25))\n",
    "\n",
    "    model.add(Flatten())\n",
    "    model.add(Dense(128))\n",
    "    model.add(Activation('relu'))\n",
    "    model.add(Dropout(0.25))\n",
    "    model.add(Dense(64))\n",
    "    model.add(Activation('relu'))\n",
    "    model.add(Dense(1))#2))\n",
    "    model.add(Activation('sigmoid'))#'softmax'))\n",
    "    adam1=keras.optimizers.Adam(lr=0.00001)\n",
    "    model.compile(loss='binary_crossentropy', optimizer=adam1, metrics=['accuracy'])\n",
    "    return model"
   ]
  },
  {
   "cell_type": "code",
   "execution_count": 5,
   "metadata": {},
   "outputs": [],
   "source": [
    "f = gzip.open('PM-genes-first2000.pklz','rb')\n",
    "loadData = pickle.load(f)\n",
    "f.close()\n",
    "\n",
    "f = gzip.open('PM-genes-first2000-label.pklz','rb')\n",
    "loadLabel = pickle.load(f)\n",
    "f.close()"
   ]
  },
  {
   "cell_type": "code",
   "execution_count": 13,
   "metadata": {},
   "outputs": [
    {
     "name": "stdout",
     "output_type": "stream",
     "text": [
      "12 (12,) (12,)\n"
     ]
    }
   ],
   "source": [
    "X = []\n",
    "Y = []\n",
    "\n",
    "for i in sorted(loadData):\n",
    "    X.append(loadData[i])\n",
    "    \n",
    "for i in sorted(loadLabel):\n",
    "    Y.append(loadLabel[i])\n",
    "    \n",
    "X = np.array(X)\n",
    "Y = np.array(Y)\n",
    "\n",
    "print len(loadData), X.shape, Y.shape"
   ]
  },
  {
   "cell_type": "code",
   "execution_count": null,
   "metadata": {},
   "outputs": [],
   "source": [
    "# fit the deep learning model\n",
    "\n",
    "batchSize=50\n",
    "erl_stop = EarlyStopping(monitor='val_acc', min_delta=0, patience=30, verbose=0, mode='max')\n",
    "hist = model.fit(x_train[rand], y_train[rand], epochs=1000, validation_data=[x_val[rand_val],y_val[rand_val]], batch_size=batchSize, verbose=1, shuffle=True, \n",
    "                callbacks=[erl_stop])"
   ]
  }
 ],
 "metadata": {
  "kernelspec": {
   "display_name": "Python 2",
   "language": "python",
   "name": "python2"
  },
  "language_info": {
   "codemirror_mode": {
    "name": "ipython",
    "version": 2
   },
   "file_extension": ".py",
   "mimetype": "text/x-python",
   "name": "python",
   "nbconvert_exporter": "python",
   "pygments_lexer": "ipython2",
   "version": "2.7.15rc1"
  }
 },
 "nbformat": 4,
 "nbformat_minor": 2
}
