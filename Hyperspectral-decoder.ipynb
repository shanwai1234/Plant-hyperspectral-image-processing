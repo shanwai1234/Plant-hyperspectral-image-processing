{
 "cells": [
  {
   "cell_type": "code",
   "execution_count": 1,
   "metadata": {},
   "outputs": [],
   "source": [
    "from deephyp import data\n",
    "import deephyp\n",
    "import numpy as np\n",
    "import os\n",
    "import matplotlib.pyplot as plt"
   ]
  },
  {
   "cell_type": "code",
   "execution_count": 2,
   "metadata": {},
   "outputs": [],
   "source": [
    "mydata = np.load('B73heat.npy')"
   ]
  },
  {
   "cell_type": "code",
   "execution_count": 3,
   "metadata": {},
   "outputs": [
    {
     "data": {
      "text/plain": [
       "(1675, 390, 290)"
      ]
     },
     "execution_count": 3,
     "metadata": {},
     "output_type": "execute_result"
    }
   ],
   "source": [
    "mydata.shape"
   ]
  },
  {
   "cell_type": "code",
   "execution_count": null,
   "metadata": {},
   "outputs": [],
   "source": [
    "hypData = data.HypImg(mydata)\n",
    "hypData.pre_process('minmax')"
   ]
  },
  {
   "cell_type": "code",
   "execution_count": 121,
   "metadata": {},
   "outputs": [],
   "source": [
    "from deephyp import autoencoder\n",
    "net = autoencoder.mlp_1D_network(inputSize=hypData.numBands)\n",
    "net.add_train_op( name='experiment_1')"
   ]
  },
  {
   "cell_type": "code",
   "execution_count": 124,
   "metadata": {},
   "outputs": [
    {
     "data": {
      "text/plain": [
       "(52500, 243)"
      ]
     },
     "execution_count": 124,
     "metadata": {},
     "output_type": "execute_result"
    }
   ],
   "source": [
    "hypData.spectraPrep.shape"
   ]
  },
  {
   "cell_type": "code",
   "execution_count": 125,
   "metadata": {},
   "outputs": [],
   "source": [
    "dataTrain = data.Iterator( dataSamples=hypData.spectraPrep[:50000, :], targets=hypData.spectraPrep[:50000, :], batchSize=10)\n",
    "dataVal = data.Iterator( dataSamples=hypData.spectraPrep[50001:52500, :], targets=hypData.spectraPrep[50001:52500, :])"
   ]
  },
  {
   "cell_type": "code",
   "execution_count": 126,
   "metadata": {},
   "outputs": [
    {
     "name": "stdout",
     "output_type": "stream",
     "text": [
      "epoch: 0, training loss: 0.0298186\n",
      "epoch: 0, validation loss: 1.33026\n",
      "epoch: 5, training loss: 0.00509942\n",
      "epoch: 10, training loss: 0.00406669\n",
      "epoch: 10, validation loss: 0.934225\n",
      "epoch: 15, training loss: 0.00393704\n",
      "epoch: 20, training loss: 0.00384976\n",
      "epoch: 20, validation loss: 0.867635\n",
      "epoch: 25, training loss: 0.00375495\n",
      "epoch: 30, training loss: 0.00370069\n",
      "epoch: 30, validation loss: 0.895204\n",
      "epoch: 35, training loss: 0.00359225\n",
      "epoch: 40, training loss: 0.00338449\n",
      "epoch: 40, validation loss: 0.767521\n",
      "epoch: 45, training loss: 0.00329367\n",
      "epoch: 50, training loss: 0.00320224\n",
      "epoch: 50, validation loss: 0.734215\n",
      "epoch: 55, training loss: 0.00311151\n",
      "epoch: 60, training loss: 0.00306689\n",
      "epoch: 60, validation loss: 0.710989\n",
      "epoch: 65, training loss: 0.00303476\n",
      "epoch: 70, training loss: 0.00292441\n",
      "epoch: 70, validation loss: 0.666986\n",
      "epoch: 75, training loss: 0.00279974\n",
      "epoch: 80, training loss: 0.00269479\n",
      "epoch: 80, validation loss: 0.626635\n",
      "epoch: 85, training loss: 0.00263131\n",
      "epoch: 90, training loss: 0.00257391\n",
      "epoch: 90, validation loss: 0.586452\n",
      "epoch: 95, training loss: 0.0025211\n",
      "epoch: 100, training loss: 0.00246695\n",
      "epoch: 100, validation loss: 0.565656\n"
     ]
    }
   ],
   "source": [
    "net.train(dataTrain=dataTrain, dataVal=dataVal, train_op_name='experiment_1', n_epochs=100, save_addr='model_directory/', visualiseRateTrain=5, visualiseRateVal=10, save_epochs=[50,100])"
   ]
  },
  {
   "cell_type": "code",
   "execution_count": 127,
   "metadata": {},
   "outputs": [
    {
     "name": "stdout",
     "output_type": "stream",
     "text": [
      "INFO:tensorflow:Restoring parameters from model_directory/epoch_100/model.ckpt\n",
      "INFO:tensorflow:Restoring parameters from model_directory/epoch_100/model.ckpt\n"
     ]
    }
   ],
   "source": [
    "net.add_model(addr='model_directory/epoch_100/', modelName='csa_100')\n",
    "dataZ = net.encoder(modelName='csa_100', dataSamples=hypData.spectraPrep )\n",
    "dataY = net.decoder(modelName='csa_100', dataZ=dataZ)\n",
    "imgZ = np.reshape(dataZ, (hypData.numRows, hypData.numCols, -1))\n",
    "imgY = np.reshape(dataY, (hypData.numRows, hypData.numCols, -1))\n",
    "imgX = np.reshape(hypData.spectraPrep, (hypData.numRows, hypData.numCols, -1))\n",
    "colourImg = imgZ.copy()\n",
    "colourImg = colourImg[ :,:,np.argsort(-np.std(np.std(colourImg, axis=0), axis=0))[:3] ]\n",
    "colourImg /= np.max(np.max(colourImg, axis=0), axis=0)\n",
    "plt.imsave(\"pre-35.png\", colourImg)\n",
    "rgb = colourImg * 255\n",
    "gray = np.dot(rgb[...,:3], [0.299, 0.587, 0.114])"
   ]
  },
  {
   "cell_type": "code",
   "execution_count": 128,
   "metadata": {},
   "outputs": [
    {
     "data": {
      "text/plain": [
       "<matplotlib.collections.PathCollection at 0x7fa3377aead0>"
      ]
     },
     "execution_count": 128,
     "metadata": {},
     "output_type": "execute_result"
    },
    {
     "data": {
      "image/png": "[encoded data removed]",
      "text/plain": [
       "<Figure size 432x288 with 1 Axes>"
      ]
     },
     "metadata": {
      "needs_background": "light"
     },
     "output_type": "display_data"
    }
   ],
   "source": [
    "nlist = []\n",
    "for i in gray:\n",
    "    for j in i:\n",
    "        nlist.append(j)\n",
    "nlist.sort()\n",
    "\n",
    "fig, ax = plt.subplots()\n",
    "x = range(len(nlist))\n",
    "y = nlist\n",
    "ax.scatter(x, y)"
   ]
  },
  {
   "cell_type": "code",
   "execution_count": 116,
   "metadata": {},
   "outputs": [],
   "source": [
    "def binary(pic):\n",
    "\tfinal = []\n",
    "\tmyl = np.shape(pic)[0]\n",
    "\tmyw = np.shape(pic)[1]\n",
    "\tfor i in pic:\n",
    "\t\tn = []\n",
    "\t\tfor j in i:\n",
    "\t\t\t# only for each pixel that greater than 0.25 were converted to whole white pixel, while pixel value less than that was converted to black\n",
    "\t\t\tif j >150 1:\n",
    "\t\t\t\tt = 255\n",
    "\t\t\telse:\n",
    "\t\t\t\tt = 0\n",
    "\t\t\tn.append(t)\n",
    "\t\tfinal.append(n)\n",
    "\tfinal = np.array(final)\t\n",
    "\treturn final"
   ]
  },
  {
   "cell_type": "code",
   "execution_count": 117,
   "metadata": {},
   "outputs": [],
   "source": [
    "final = binary(gray)\n",
    "plt.imsave(\"mid-35.png\", final)"
   ]
  },
  {
   "cell_type": "code",
   "execution_count": 98,
   "metadata": {},
   "outputs": [],
   "source": [
    "def convert(pic):\n",
    "\tfinal = []\n",
    "\tmyl = np.shape(pic)[0]\n",
    "\tmyw = np.shape(pic)[1]\n",
    "\tfor i in pic:\n",
    "\t\tn = []\n",
    "\t\tfor j in i:\n",
    "\t\t\t# only for each pixel that greater than 0.25 were converted to whole white pixel, while pixel value less than that was converted to black\n",
    "\t\t\tif j > 160:\n",
    "\t\t\t\tt = 1\n",
    "\t\t\telse:\n",
    "\t\t\t\tt = 0.1\n",
    "\t\t\tn.append(t)\n",
    "\t\tfinal.append(n)\n",
    "\tfinal = np.array(final)\t\n",
    "\treturn final"
   ]
  },
  {
   "cell_type": "code",
   "execution_count": 99,
   "metadata": {},
   "outputs": [],
   "source": [
    "mid = convert(gray)"
   ]
  },
  {
   "cell_type": "code",
   "execution_count": 100,
   "metadata": {},
   "outputs": [],
   "source": [
    "mf = []\n",
    "for x,i in zip(mydata,mid):\n",
    "    n = []\n",
    "    for y,j in zip(x,i):\n",
    "        z = y*j\n",
    "        n.append(z)\n",
    "    mf.append(n)\n",
    "mf = np.array(mf)"
   ]
  },
  {
   "cell_type": "code",
   "execution_count": 101,
   "metadata": {},
   "outputs": [],
   "source": [
    "hypData = data.HypImg(mf)\n",
    "hypData.pre_process('minmax')"
   ]
  },
  {
   "cell_type": "code",
   "execution_count": 102,
   "metadata": {},
   "outputs": [],
   "source": [
    "from deephyp import autoencoder\n",
    "net = autoencoder.mlp_1D_network(inputSize=hypData.numBands)\n",
    "net.add_train_op( name='experiment_1')\n",
    "dataTrain = data.Iterator( dataSamples=hypData.spectraPrep[:60000, :], targets=hypData.spectraPrep[:60000, :], batchSize=10)\n",
    "dataVal = data.Iterator( dataSamples=hypData.spectraPrep[60001:85050, :], targets=hypData.spectraPrep[60001:85050, :])"
   ]
  },
  {
   "cell_type": "code",
   "execution_count": 103,
   "metadata": {},
   "outputs": [
    {
     "name": "stdout",
     "output_type": "stream",
     "text": [
      "epoch: 0, training loss: 0.0301754\n",
      "epoch: 0, validation loss: 56.0784\n",
      "epoch: 5, training loss: 0.00503051\n",
      "epoch: 10, training loss: 0.0048862\n",
      "epoch: 10, validation loss: 54.3191\n",
      "epoch: 15, training loss: 0.00394659\n",
      "epoch: 20, training loss: 0.00384495\n",
      "epoch: 20, validation loss: 47.3563\n",
      "epoch: 25, training loss: 0.00372763\n",
      "epoch: 30, training loss: 0.00367646\n",
      "epoch: 30, validation loss: 47.0075\n",
      "epoch: 35, training loss: 0.00365022\n",
      "epoch: 40, training loss: 0.00363443\n",
      "epoch: 40, validation loss: 48.0484\n",
      "epoch: 45, training loss: 0.00362074\n",
      "epoch: 50, training loss: 0.0035906\n",
      "epoch: 50, validation loss: 48.6826\n",
      "epoch: 55, training loss: 0.0035479\n",
      "epoch: 60, training loss: 0.00344193\n",
      "epoch: 60, validation loss: 48.5986\n",
      "epoch: 65, training loss: 0.0031961\n",
      "epoch: 70, training loss: 0.00299158\n",
      "epoch: 70, validation loss: 46.7683\n",
      "epoch: 75, training loss: 0.00282143\n",
      "epoch: 80, training loss: 0.00272907\n",
      "epoch: 80, validation loss: 46.2352\n",
      "epoch: 85, training loss: 0.0026724\n",
      "epoch: 90, training loss: 0.00262641\n",
      "epoch: 90, validation loss: 44.9004\n",
      "epoch: 95, training loss: 0.00258638\n",
      "epoch: 100, training loss: 0.00252268\n",
      "epoch: 100, validation loss: 44.5591\n"
     ]
    }
   ],
   "source": [
    "net.train(dataTrain=dataTrain, dataVal=dataVal, train_op_name='experiment_1', n_epochs=100, save_addr='model_directory/', visualiseRateTrain=5, visualiseRateVal=10, save_epochs=[50,100])"
   ]
  },
  {
   "cell_type": "code",
   "execution_count": 104,
   "metadata": {},
   "outputs": [
    {
     "name": "stdout",
     "output_type": "stream",
     "text": [
      "INFO:tensorflow:Restoring parameters from model_directory/epoch_100/model.ckpt\n",
      "INFO:tensorflow:Restoring parameters from model_directory/epoch_100/model.ckpt\n"
     ]
    }
   ],
   "source": [
    "net.add_model(addr='model_directory/epoch_100/', modelName='csa_100')\n",
    "dataZ = net.encoder(modelName='csa_100', dataSamples=hypData.spectraPrep)\n",
    "dataY = net.decoder(modelName='csa_100', dataZ=dataZ)\n",
    "imgZ = np.reshape(dataZ, (hypData.numRows, hypData.numCols, -1))\n",
    "imgY = np.reshape(dataY, (hypData.numRows, hypData.numCols, -1))\n",
    "imgX = np.reshape(hypData.spectraPrep, (hypData.numRows, hypData.numCols, -1))\n",
    "colourImg = imgZ.copy()\n",
    "colourImg = colourImg[ :,:,np.argsort(-np.std(np.std(colourImg, axis=0), axis=0))[:3] ]\n",
    "colourImg /= np.max(np.max(colourImg, axis=0), axis=0)\n",
    "plt.imsave(\"35-post.png\", colourImg)"
   ]
  },
  {
   "cell_type": "code",
   "execution_count": 87,
   "metadata": {},
   "outputs": [],
   "source": [
    "#test = colourImg * 255\n",
    "#myImg = test.astype('uint8')\n",
    "#plt.imsave(\"test.png\", myImg)"
   ]
  },
  {
   "cell_type": "code",
   "execution_count": 51,
   "metadata": {},
   "outputs": [
    {
     "data": {
      "text/plain": [
       "<matplotlib.collections.PathCollection at 0x7fa260155390>"
      ]
     },
     "execution_count": 51,
     "metadata": {},
     "output_type": "execute_result"
    },
    {
     "data": {
      "image/png": "[encoded data removed]",
      "text/plain": [
       "<Figure size 432x288 with 1 Axes>"
      ]
     },
     "metadata": {
      "needs_background": "light"
     },
     "output_type": "display_data"
    }
   ],
   "source": [
    "fig, ax = plt.subplots()\n",
    "x = range(len(nlist))\n",
    "y = nlist\n",
    "ax.scatter(x, y)"
   ]
  },
  {
   "cell_type": "code",
   "execution_count": 52,
   "metadata": {},
   "outputs": [],
   "source": [
    "plt.imsave(\"test.png\", final)"
   ]
  }
 ],
 "metadata": {
  "kernelspec": {
   "display_name": "Python 3",
   "language": "python",
   "name": "python3"
  },
  "language_info": {
   "codemirror_mode": {
    "name": "ipython",
    "version": 3
   },
   "file_extension": ".py",
   "mimetype": "text/x-python",
   "name": "python",
   "nbconvert_exporter": "python",
   "pygments_lexer": "ipython3",
   "version": "3.7.4"
  }
 },
 "nbformat": 4,
 "nbformat_minor": 2
}
