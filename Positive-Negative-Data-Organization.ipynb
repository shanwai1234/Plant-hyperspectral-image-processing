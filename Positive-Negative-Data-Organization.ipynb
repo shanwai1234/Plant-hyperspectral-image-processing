{
 "cells": [
  {
   "cell_type": "code",
   "execution_count": 1,
   "metadata": {},
   "outputs": [
    {
     "data": {
      "text/html": [
       "<div>\n",
       "<style scoped>\n",
       "    .dataframe tbody tr th:only-of-type {\n",
       "        vertical-align: middle;\n",
       "    }\n",
       "\n",
       "    .dataframe tbody tr th {\n",
       "        vertical-align: top;\n",
       "    }\n",
       "\n",
       "    .dataframe thead th {\n",
       "        text-align: right;\n",
       "    }\n",
       "</style>\n",
       "<table border=\"1\" class=\"dataframe\">\n",
       "  <thead>\n",
       "    <tr style=\"text-align: right;\">\n",
       "      <th></th>\n",
       "      <th>Gene</th>\n",
       "      <th>BaseMean</th>\n",
       "      <th>Log2Fold</th>\n",
       "      <th>Pvalue</th>\n",
       "    </tr>\n",
       "  </thead>\n",
       "  <tbody>\n",
       "    <tr>\n",
       "      <th>0</th>\n",
       "      <td>Pgl_GLEAN_10005356</td>\n",
       "      <td>257.588333</td>\n",
       "      <td>-0.076667</td>\n",
       "      <td>0.347962</td>\n",
       "    </tr>\n",
       "    <tr>\n",
       "      <th>1</th>\n",
       "      <td>Pgl_GLEAN_10038194</td>\n",
       "      <td>30.011667</td>\n",
       "      <td>-0.471667</td>\n",
       "      <td>0.449496</td>\n",
       "    </tr>\n",
       "    <tr>\n",
       "      <th>2</th>\n",
       "      <td>Pgl_GLEAN_10027414</td>\n",
       "      <td>84.375000</td>\n",
       "      <td>0.083333</td>\n",
       "      <td>0.685954</td>\n",
       "    </tr>\n",
       "    <tr>\n",
       "      <th>3</th>\n",
       "      <td>Pgl_GLEAN_10038163</td>\n",
       "      <td>29.290000</td>\n",
       "      <td>0.223333</td>\n",
       "      <td>0.675698</td>\n",
       "    </tr>\n",
       "    <tr>\n",
       "      <th>4</th>\n",
       "      <td>Pgl_GLEAN_10020883</td>\n",
       "      <td>3.830000</td>\n",
       "      <td>3.120000</td>\n",
       "      <td>0.048956</td>\n",
       "    </tr>\n",
       "  </tbody>\n",
       "</table>\n",
       "</div>"
      ],
      "text/plain": [
       "                 Gene    BaseMean  Log2Fold    Pvalue\n",
       "0  Pgl_GLEAN_10005356  257.588333 -0.076667  0.347962\n",
       "1  Pgl_GLEAN_10038194   30.011667 -0.471667  0.449496\n",
       "2  Pgl_GLEAN_10027414   84.375000  0.083333  0.685954\n",
       "3  Pgl_GLEAN_10038163   29.290000  0.223333  0.675698\n",
       "4  Pgl_GLEAN_10020883    3.830000  3.120000  0.048956"
      ]
     },
     "execution_count": 1,
     "metadata": {},
     "output_type": "execute_result"
    }
   ],
   "source": [
    "import pandas as pd\n",
    "\n",
    "df = pd.read_csv('',sep=',')\n",
    "df.head()"
   ]
  },
  {
   "cell_type": "code",
   "execution_count": 2,
   "metadata": {},
   "outputs": [],
   "source": [
    "#=================== using top smallest log2fold change value to represent the total negative controls ========#\n",
    "\n",
    "positive = df[(df.Log2Fold >= 2) & (df.Pvalue < 0.05)]\n",
    "negative = df[(df.Log2Fold <= -2) & (df.Pvalue < 0.05)]\n",
    "middle = df[(df.Log2Fold >= -0.2) & (df.Log2Fold <= 0.2)]"
   ]
  },
  {
   "cell_type": "code",
   "execution_count": 3,
   "metadata": {},
   "outputs": [
    {
     "name": "stdout",
     "output_type": "stream",
     "text": [
      "7119 5816 27745\n"
     ]
    }
   ],
   "source": [
    "a = len(positive.BaseMean)\n",
    "b = len(negative.BaseMean)\n",
    "c = len(middle.BaseMean)\n",
    "\n",
    "print a,b,c"
   ]
  },
  {
   "cell_type": "code",
   "execution_count": 17,
   "metadata": {},
   "outputs": [
    {
     "name": "stdout",
     "output_type": "stream",
     "text": [
      "27861.06 18.71 2.08\n",
      "9435.88 13.879999999999999 2.1\n"
     ]
    },
    {
     "ename": "AttributeError",
     "evalue": "'tuple' object has no attribute 'plot'",
     "output_type": "error",
     "traceback": [
      "\u001b[0;31m---------------------------------------------------------------------------\u001b[0m",
      "\u001b[0;31mAttributeError\u001b[0m                            Traceback (most recent call last)",
      "\u001b[0;32m<ipython-input-17-2e2a891cb99e>\u001b[0m in \u001b[0;36m<module>\u001b[0;34m()\u001b[0m\n\u001b[1;32m      8\u001b[0m \u001b[0;34m\u001b[0m\u001b[0m\n\u001b[1;32m      9\u001b[0m \u001b[0mfig\u001b[0m\u001b[0;34m,\u001b[0m \u001b[0maxes\u001b[0m \u001b[0;34m=\u001b[0m \u001b[0mplt\u001b[0m\u001b[0;34m.\u001b[0m\u001b[0msubplots\u001b[0m\u001b[0;34m(\u001b[0m\u001b[0mnrows\u001b[0m\u001b[0;34m=\u001b[0m\u001b[0;36m2\u001b[0m\u001b[0;34m,\u001b[0m \u001b[0mncols\u001b[0m\u001b[0;34m=\u001b[0m\u001b[0;36m1\u001b[0m\u001b[0;34m,\u001b[0m \u001b[0mfigsize\u001b[0m\u001b[0;34m=\u001b[0m\u001b[0;34m(\u001b[0m\u001b[0;36m8\u001b[0m\u001b[0;34m,\u001b[0m \u001b[0;36m5\u001b[0m\u001b[0;34m)\u001b[0m\u001b[0;34m)\u001b[0m\u001b[0;34m\u001b[0m\u001b[0;34m\u001b[0m\u001b[0m\n\u001b[0;32m---> 10\u001b[0;31m \u001b[0mpositive\u001b[0m\u001b[0;34m[\u001b[0m\u001b[0mpositive\u001b[0m\u001b[0;34m.\u001b[0m\u001b[0mBaseMean\u001b[0m \u001b[0;34m>\u001b[0m \u001b[0;36m1\u001b[0m\u001b[0;34m]\u001b[0m\u001b[0;34m.\u001b[0m\u001b[0mBaseMean\u001b[0m\u001b[0;34m.\u001b[0m\u001b[0mhist\u001b[0m\u001b[0;34m(\u001b[0m\u001b[0mbins\u001b[0m\u001b[0;34m=\u001b[0m\u001b[0;36m500\u001b[0m\u001b[0;34m)\u001b[0m\u001b[0;34m.\u001b[0m\u001b[0mset_xlim\u001b[0m\u001b[0;34m(\u001b[0m\u001b[0;36m0\u001b[0m\u001b[0;34m,\u001b[0m\u001b[0;36m1000\u001b[0m\u001b[0;34m)\u001b[0m\u001b[0;34m.\u001b[0m\u001b[0mplot\u001b[0m\u001b[0;34m(\u001b[0m\u001b[0max\u001b[0m\u001b[0;34m=\u001b[0m\u001b[0maxes\u001b[0m\u001b[0;34m[\u001b[0m\u001b[0;36m0\u001b[0m\u001b[0;34m,\u001b[0m\u001b[0;36m1\u001b[0m\u001b[0;34m]\u001b[0m\u001b[0;34m)\u001b[0m\u001b[0;34m\u001b[0m\u001b[0;34m\u001b[0m\u001b[0m\n\u001b[0m\u001b[1;32m     11\u001b[0m \u001b[0msm\u001b[0m\u001b[0;34m.\u001b[0m\u001b[0mBaseMean\u001b[0m\u001b[0;34m.\u001b[0m\u001b[0mhist\u001b[0m\u001b[0;34m(\u001b[0m\u001b[0mbins\u001b[0m\u001b[0;34m=\u001b[0m\u001b[0;36m500\u001b[0m\u001b[0;34m)\u001b[0m\u001b[0;34m.\u001b[0m\u001b[0mset_xlim\u001b[0m\u001b[0;34m(\u001b[0m\u001b[0;36m0\u001b[0m\u001b[0;34m,\u001b[0m\u001b[0;36m1000\u001b[0m\u001b[0;34m)\u001b[0m\u001b[0;34m.\u001b[0m\u001b[0mplot\u001b[0m\u001b[0;34m(\u001b[0m\u001b[0max\u001b[0m\u001b[0;34m=\u001b[0m\u001b[0maxes\u001b[0m\u001b[0;34m[\u001b[0m\u001b[0;36m1\u001b[0m\u001b[0;34m,\u001b[0m\u001b[0;36m1\u001b[0m\u001b[0;34m]\u001b[0m\u001b[0;34m)\u001b[0m\u001b[0;34m\u001b[0m\u001b[0;34m\u001b[0m\u001b[0m\n",
      "\u001b[0;31mAttributeError\u001b[0m: 'tuple' object has no attribute 'plot'"
     ]
    },
    {
     "data": {
      "image/png": "[encoded data removed]",
      "text/plain": [
       "<Figure size 576x360 with 2 Axes>"
      ]
     },
     "metadata": {},
     "output_type": "display_data"
    }
   ],
   "source": [
    "import numpy as np\n",
    "import matplotlib.pyplot as plt\n",
    "\n",
    "sm = middle[(middle.BaseMean >=1) & (middle.BaseMean <=200)]\n",
    "\n",
    "print max(positive.BaseMean), np.median(positive.BaseMean), min(positive.BaseMean)\n",
    "print max(negative.BaseMean), np.median(negative.BaseMean), min(negative.BaseMean)\n",
    "\n",
    "fig, axes = plt.subplots(nrows=2, ncols=1, figsize=(8, 5))\n",
    "positive[positive.BaseMean > 1].BaseMean.hist(bins=500).set_xlim(0,1000).plot(ax=axes[0,1])\n",
    "sm.BaseMean.hist(bins=500).set_xlim(0,1000).plot(ax=axes[1,1])"
   ]
  },
  {
   "cell_type": "code",
   "execution_count": 29,
   "metadata": {},
   "outputs": [
    {
     "name": "stderr",
     "output_type": "stream",
     "text": [
      "/home/zliang/.local/lib/python2.7/site-packages/ipykernel_launcher.py:7: SettingWithCopyWarning: \n",
      "A value is trying to be set on a copy of a slice from a DataFrame.\n",
      "Try using .loc[row_indexer,col_indexer] = value instead\n",
      "\n",
      "See the caveats in the documentation: http://pandas.pydata.org/pandas-docs/stable/indexing.html#indexing-view-versus-copy\n",
      "  import sys\n"
     ]
    }
   ],
   "source": [
    "sm = middle[(middle.BaseMean >=10) & (middle.BaseMean <=200)]\n",
    "sm100 = middle[middle.BaseMean > 100].sample(frac=0.1)\n",
    "\n",
    "#sm500 = middle[middle.BaseMean > 500].sample(frac=0.05)\n",
    "middle = pd.concat([sm, sm100])\n",
    "middle['AbsLog2Fold'] = abs(middle['Log2Fold'])\n",
    "positive['AbsLog2Fold'] = abs(positive['Log2Fold'])\n",
    "mymiddle = middle.sort_values(by=['AbsLog2Fold'])\n",
    "mypositive = positive.sort_values(by=['AbsLog2Fold'])\n",
    "fmiddle = mymiddle[:(a+b)]\n",
    "fpositive = mypositive[:b]\n",
    "pmiddle = mymiddle[:a]\n",
    "nmiddle = mymiddle[:b]"
   ]
  },
  {
   "cell_type": "code",
   "execution_count": 30,
   "metadata": {},
   "outputs": [],
   "source": [
    "fpositive.to_csv('6timepoints-FourSpecies-addbase-filter-addsignificant-positive-sameneg.csv')"
   ]
  },
  {
   "cell_type": "code",
   "execution_count": 73,
   "metadata": {},
   "outputs": [
    {
     "name": "stdout",
     "output_type": "stream",
     "text": [
      "18.515 14.24 17.130000000000006 15917\n"
     ]
    }
   ],
   "source": [
    "import numpy as np\n",
    "\n",
    "sm = middle[(middle.BaseMean >=1) & (middle.BaseMean <=50)]\n",
    "sm100 = middle[middle.BaseMean > 50].sample(frac=0.1)\n",
    "mymiddle = pd.concat([sm, sm100])\n",
    "\n",
    "x = np.median(positive.BaseMean)\n",
    "y = np.median(negative.BaseMean)\n",
    "z = np.median(mymiddle.BaseMean)\n",
    "print x,y,z,len(mymiddle.BaseMean)"
   ]
  },
  {
   "cell_type": "code",
   "execution_count": 81,
   "metadata": {},
   "outputs": [
    {
     "name": "stderr",
     "output_type": "stream",
     "text": [
      "/home/zliang/.local/lib/python2.7/site-packages/ipykernel_launcher.py:2: SettingWithCopyWarning: \n",
      "A value is trying to be set on a copy of a slice from a DataFrame.\n",
      "Try using .loc[row_indexer,col_indexer] = value instead\n",
      "\n",
      "See the caveats in the documentation: http://pandas.pydata.org/pandas-docs/stable/indexing.html#indexing-view-versus-copy\n",
      "  \n"
     ]
    }
   ],
   "source": [
    "mymiddle['AbsLog2Fold'] = abs(mymiddle['Log2Fold'])\n",
    "positive['AbsLog2Fold'] = abs(positive['Log2Fold'])\n",
    "\n",
    "mymiddle = mymiddle.sort_values(by=['AbsLog2Fold'])\n",
    "mypositive = positive.sort_values(by=['AbsLog2Fold'], ascending=False)\n",
    "fmiddle = mymiddle[:(a+b)]\n",
    "fpositive = mypositive[:b]\n",
    "pmiddle = mymiddle[:a]\n",
    "nmiddle = mymiddle[:b]\n",
    "fmiddle.to_csv('6timepoints-FourSpecies-061819-I60-middle-samepos_neg.csv')\n",
    "pmiddle.to_csv('6timepoints-FourSpecies-061819-I60-middle-samepos.csv')\n",
    "nmiddle.to_csv('6timepoints-FourSpecies-061819-I60-middle-sameneg.csv')\n",
    "fpositive.to_csv('6timepoints-FourSpecies-061819-I60-positive-sameneg.csv')\n",
    "negative.to_csv('6timepoints-FourSpecies-061819-I60-negative.csv')"
   ]
  },
  {
   "cell_type": "code",
   "execution_count": 83,
   "metadata": {},
   "outputs": [
    {
     "name": "stderr",
     "output_type": "stream",
     "text": [
      "/home/zliang/.local/lib/python2.7/site-packages/ipykernel_launcher.py:1: SettingWithCopyWarning: \n",
      "A value is trying to be set on a copy of a slice from a DataFrame.\n",
      "Try using .loc[row_indexer,col_indexer] = value instead\n",
      "\n",
      "See the caveats in the documentation: http://pandas.pydata.org/pandas-docs/stable/indexing.html#indexing-view-versus-copy\n",
      "  \"\"\"Entry point for launching an IPython kernel.\n"
     ]
    }
   ],
   "source": [
    "negative['AbsLog2Fold'] = abs(negative['Log2Fold'])\n",
    "mynegative = negative.sort_values(by=['AbsLog2Fold'], ascending=False)\n",
    "pn = pd.concat([mypositive, mynegative])\n",
    "pn.to_csv('6timepoints-FourSpecies-061819-I60-positive-plusneg.csv')"
   ]
  },
  {
   "cell_type": "code",
   "execution_count": 60,
   "metadata": {},
   "outputs": [
    {
     "data": {
      "text/plain": [
       "(0, 5000)"
      ]
     },
     "execution_count": 60,
     "metadata": {},
     "output_type": "execute_result"
    },
    {
     "data": {
      "image/png": "[encoded data removed]",
      "text/plain": [
       "<Figure size 432x288 with 1 Axes>"
      ]
     },
     "metadata": {},
     "output_type": "display_data"
    }
   ],
   "source": [
    "positive.BaseMean.hist(bins=100).set_xlim(0,5000)"
   ]
  },
  {
   "cell_type": "code",
   "execution_count": 61,
   "metadata": {},
   "outputs": [
    {
     "data": {
      "text/plain": [
       "(0, 5000)"
      ]
     },
     "execution_count": 61,
     "metadata": {},
     "output_type": "execute_result"
    },
    {
     "data": {
      "image/png": "[encoded data removed]",
      "text/plain": [
       "<Figure size 432x288 with 1 Axes>"
      ]
     },
     "metadata": {},
     "output_type": "display_data"
    }
   ],
   "source": [
    "negative.BaseMean.hist(bins=100).set_xlim(0,5000)"
   ]
  },
  {
   "cell_type": "code",
   "execution_count": 75,
   "metadata": {},
   "outputs": [
    {
     "data": {
      "text/plain": [
       "(0, 5000)"
      ]
     },
     "execution_count": 75,
     "metadata": {},
     "output_type": "execute_result"
    },
    {
     "data": {
      "image/png": "[encoded data removed]",
      "text/plain": [
       "<Figure size 432x288 with 1 Axes>"
      ]
     },
     "metadata": {},
     "output_type": "display_data"
    }
   ],
   "source": [
    "mymiddle.BaseMean.hist(bins=100).set_xlim(0,5000)"
   ]
  },
  {
   "cell_type": "code",
   "execution_count": 28,
   "metadata": {},
   "outputs": [],
   "source": [
    "fmiddle.to_csv('6timepoints-FourSpecies-addbase-filter-addsignificant-middle-samepos_neg.csv')\n",
    "pmiddle.to_csv('6timepoints-FourSpecies-addbase-filter-addsignificant-middle-samepos.csv')\n",
    "nmiddle.to_csv('6timepoints-FourSpecies-addbase-filter-addsignificant-middle-sameneg.csv')\n",
    "positive.to_csv('6timepoints-FourSpecies-addbase-filter-addsignificant-positive.csv')\n",
    "negative.to_csv('6timepoints-FourSpecies-addbase-filter-addsignificant-negative.csv')"
   ]
  }
 ],
 "metadata": {
  "kernelspec": {
   "display_name": "Python 2",
   "language": "python",
   "name": "python2"
  },
  "language_info": {
   "codemirror_mode": {
    "name": "ipython",
    "version": 2
   },
   "file_extension": ".py",
   "mimetype": "text/x-python",
   "name": "python",
   "nbconvert_exporter": "python",
   "pygments_lexer": "ipython2",
   "version": "2.7.15+"
  }
 },
 "nbformat": 4,
 "nbformat_minor": 2
}
