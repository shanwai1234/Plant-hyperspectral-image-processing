{
 "cells": [
  {
   "cell_type": "code",
   "execution_count": 1,
   "metadata": {},
   "outputs": [
    {
     "name": "stderr",
     "output_type": "stream",
     "text": [
      "/Users/jdw297/anaconda/lib/python2.7/site-packages/h5py/__init__.py:34: FutureWarning: Conversion of the second argument of issubdtype from `float` to `np.floating` is deprecated. In future, it will be treated as `np.float64 == np.dtype(float).type`.\n",
      "  from ._conv import register_converters as _register_converters\n",
      "Using TensorFlow backend.\n"
     ]
    }
   ],
   "source": [
    "import os,sys\n",
    "#If running without a gpu (not recommended) you need to comment out the next two lines.\n",
    "os.environ[\"CUDA_DEVICE_ORDER\"]=\"PCI_BUS_ID\"\n",
    "os.environ[\"CUDA_VISIBLE_DEVICES\"]=\"0\"\n",
    "import Extract_sequences_from_ref as extSeq\n",
    "import keras\n",
    "import pandas as pd\n",
    "import random\n",
    "import pickle\n",
    "from keras.callbacks import ModelCheckpoint, CSVLogger, ReduceLROnPlateau, EarlyStopping, TensorBoard\n",
    "from keras import regularizers\n",
    "from keras.models import Model, Sequential\n",
    "from keras.layers import Input, Dense, Conv1D, Conv2D, Flatten, MaxPooling1D, MaxPooling2D, Dropout, Activation\n",
    "from keras import activations\n",
    "from sklearn.metrics import roc_auc_score, roc_curve\n",
    "import matplotlib\n",
    "#matplotlib.use('PS')\n",
    "import matplotlib.pyplot as plt\n",
    "import scipy\n",
    "import numpy as np\n",
    "from imblearn.under_sampling import RandomUnderSampler\n",
    "from imblearn.over_sampling import RandomOverSampler\n",
    "from sklearn.metrics import average_precision_score\n",
    "from sklearn.metrics import precision_recall_curve\n",
    "#random.seed(12345)"
   ]
  },
  {
   "cell_type": "code",
   "execution_count": 2,
   "metadata": {
    "collapsed": true
   },
   "outputs": [],
   "source": [
    "#details of run\n",
    "#fold_num=1\n",
    "#rep=1\n",
    "fold_num=sys.argv[1]\n",
    "rep = sys.argv[2]\n",
    "out_prefix=\"pro_term1.5_sb_zm_SC_CO2k_\"+\"fold\"+str(fold_num)+\"rep\"+str(rep)\n",
    "wrkdir = \"../data/contrast_data/\"\n",
    "#load training and testing sets created by the k-folds ortholog contrast script\n",
    "train_set=pd.read_csv(wrkdir+\"/TMP_TRAIN_SET\"+str(fold_num)+\".csv\")\n",
    "test_set=pd.read_csv(wrkdir+\"/TMP_TEST_SET\"+str(fold_num)+\".csv\")"
   ]
  },
  {
   "cell_type": "code",
   "execution_count": 3,
   "metadata": {
    "collapsed": true
   },
   "outputs": [],
   "source": [
    "def join_taxa_and_orthos_SC(taxa, orthos, exclude):\n",
    "    taxa[0]=taxa[0][taxa[0]['RPK']>exclude]\n",
    "    taxa[1]=taxa[1][taxa[1]['RPK']>exclude]\n",
    "    taxa[0].rename(columns={\"gene_id\":\"sorghum\",\"RPK\":\"sorghum_val\"}, inplace=True)\n",
    "    joint = orthos.merge(taxa[0].copy(),how='left',on=\"sorghum\").copy()\n",
    "    taxa[1].rename(columns={\"gene_id\":\"maize\",\"RPK\":\"maize_val\"}, inplace=True)\n",
    "    joint = joint.merge(taxa[1].copy(),how='left',on=\"maize\").copy()\n",
    "    return joint.copy()"
   ]
  },
  {
   "cell_type": "code",
   "execution_count": 4,
   "metadata": {
    "collapsed": true
   },
   "outputs": [],
   "source": [
    "def get_process_trans_data_kkarl():\n",
    "    zm=pd.read_csv(wrkdir+\"/df_STAR_HTSeq_counts_B73_match_based_on_genet_dist_DESeq2_normed_fpm_rounded_origNames_and_Altnames.txt\", delimiter=\" \")\n",
    "    zm_GShoot=pd.DataFrame(zm[(zm[\"TissueWODate\"]==\"GShoot\") & (zm[\"RNA_TaxaName\"]==\"B73\")].dropna(axis=1).mean(),columns=[\"RPK\"])\n",
    "    zm_GShoot[\"gene_id\"]=zm_GShoot.index\n",
    "    zm_GShoot = zm_GShoot.reset_index()[[\"gene_id\",\"RPK\"]]\n",
    "\n",
    "    sb=pd.read_csv(wrkdir+\"/df_STAR_HTSeq_counts_SorghumRootandShoot_DESeq2_normed_fpm_rounded.txt\", delimiter=\" \")\n",
    "    sb_GShoot=pd.DataFrame(sb[sb[\"<Trait>\"].isin([\"BTx623SbGShoot1\",\"BTx623SbGShoot2\"])].mean(), columns=[\"RPK\"])\n",
    "    sb_GShoot[\"gene_id\"]=pd.DataFrame([x for x in sb_GShoot.index.str.split(\".v3.2\") if x !=\"\"])[0].values\n",
    "    sb_GShoot =sb_GShoot.reset_index()[[\"gene_id\",\"RPK\"]]\n",
    "    taxa=[sb_GShoot,zm_GShoot]\n",
    "    return taxa"
   ]
  },
  {
   "cell_type": "code",
   "execution_count": 5,
   "metadata": {
    "collapsed": true
   },
   "outputs": [],
   "source": [
    "def get_single_copy_sb_zm_pairs():\n",
    "    pairs=[]\n",
    "    for line in open(wrkdir+\"/zmV3_sbV3_single_copy.txt\", \"rU\"):\n",
    "        if line[:1]==\"#\":continue\n",
    "        zm = line.split(\"||\")[3].split(\".v6a\")[0].split(\"_T\")[0]\n",
    "        if \"T\" in zm:\n",
    "            zm = zm.replace(\"T\",\"\")\n",
    "        sb = line.split(\"||\")[11][:-7]\n",
    "        pairs.append([sb, zm])\n",
    "    sb_zm_SC = pd.DataFrame(pairs, columns=[\"sorghum\",\"maize\"])\n",
    "    sb_zm_SC = sb_zm_SC[sb_zm_SC[\"sorghum\"].duplicated(keep=False)==False]\n",
    "    sb_zm_SC = sb_zm_SC[sb_zm_SC[\"maize\"].duplicated(keep=False)==False]\n",
    "    return sb_zm_SC"
   ]
  },
  {
   "cell_type": "code",
   "execution_count": 6,
   "metadata": {
    "collapsed": true,
    "scrolled": true
   },
   "outputs": [],
   "source": [
    "taxa = get_process_trans_data_kkarl()\n",
    "sb_zm_SC= get_single_copy_sb_zm_pairs()\n",
    "sb_zm = join_taxa_and_orthos_SC(taxa, sb_zm_SC, exclude=-1)\n",
    "sb_zm.fillna(0, inplace=True)"
   ]
  },
  {
   "cell_type": "code",
   "execution_count": 7,
   "metadata": {},
   "outputs": [
    {
     "name": "stdout",
     "output_type": "stream",
     "text": [
      "13281\n",
      "13281\n"
     ]
    }
   ],
   "source": [
    "print len(sb_zm)\n",
    "sb_zm.dropna(inplace=True)\n",
    "print len(sb_zm)"
   ]
  },
  {
   "cell_type": "code",
   "execution_count": 8,
   "metadata": {
    "collapsed": true
   },
   "outputs": [],
   "source": [
    "#add small number and log2 transform values\n",
    "tmp=pd.concat([sb_zm.iloc[:,-2],sb_zm.iloc[:,-2]])\n",
    "val_to_add=(tmp[tmp!=0].min()/5)\n",
    "sb_zm[\"sorghum_val\"]=np.log2(sb_zm[\"sorghum_val\"]+val_to_add)\n",
    "sb_zm[\"maize_val\"]=np.log2(sb_zm[\"maize_val\"]+val_to_add)"
   ]
  },
  {
   "cell_type": "code",
   "execution_count": 9,
   "metadata": {},
   "outputs": [
    {
     "data": {
      "image/png": "[encoded data removed]",
      "text/plain": [
       "<matplotlib.figure.Figure at 0x15088c510>"
      ]
     },
     "metadata": {},
     "output_type": "display_data"
    },
    {
     "data": {
      "image/png": "[encoded data removed]",
      "text/plain": [
       "<matplotlib.figure.Figure at 0x14d260710>"
      ]
     },
     "metadata": {},
     "output_type": "display_data"
    }
   ],
   "source": [
    "plt.hist(sb_zm[\"sorghum_val\"],normed=True)\n",
    "plt.show()\n",
    "plt.hist(sb_zm[\"maize_val\"],normed=True)\n",
    "plt.show()"
   ]
  },
  {
   "cell_type": "code",
   "execution_count": 10,
   "metadata": {
    "collapsed": true
   },
   "outputs": [],
   "source": [
    "sb_zm_pct_rnk = pd.concat([sb_zm.iloc[:,:2],sb_zm.rank(axis=0, pct=True, numeric_only=True)], axis=1)\n",
    "#red_ortho_pct = OC.rank_TPM_by_subgenome(taxa, red_orthos)"
   ]
  },
  {
   "cell_type": "code",
   "execution_count": 11,
   "metadata": {
    "collapsed": true
   },
   "outputs": [],
   "source": [
    "def train_test_ortho_split_w_fams(sb_zm_orth_val, train_set, test_set, val_freq):\n",
    "    #seperate out test set\n",
    "    test=sb_zm_orth_val[sb_zm_orth_val[\"maize\"].isin(test_set[\"gene_id\"])]\n",
    "    train_val=train_set[\"gene_id\"].tolist()\n",
    "    random.shuffle(train_val)\n",
    "    #print int(len(train_val)*val_freq)\n",
    "    val=sb_zm_orth_val[sb_zm_orth_val[\"maize\"].isin(train_val[:int(len(train_val)*val_freq)])]\n",
    "    train=sb_zm_orth_val[sb_zm_orth_val[\"maize\"].isin(train_val[int(len(train_val)*val_freq):])]\n",
    "    print train.shape, test.shape, val.shape\n",
    "    return train, test, val"
   ]
  },
  {
   "cell_type": "code",
   "execution_count": 12,
   "metadata": {},
   "outputs": [
    {
     "name": "stdout",
     "output_type": "stream",
     "text": [
      "(8251, 4) (2250, 4) (924, 4)\n"
     ]
    }
   ],
   "source": [
    "#split train test val sets based on imported family data\n",
    "train_orth, test_orth, val_orth = train_test_ortho_split_w_fams(sb_zm_pct_rnk, train_set, test_set, val_freq=0.1)"
   ]
  },
  {
   "cell_type": "code",
   "execution_count": 13,
   "metadata": {},
   "outputs": [
    {
     "name": "stdout",
     "output_type": "stream",
     "text": [
      "[]\n",
      "[]\n",
      "[]\n"
     ]
    }
   ],
   "source": [
    "#sainity check\n",
    "print [x for x in test_orth.iloc[:,:2].values.flatten() if x in val_orth.iloc[:,:2].values.flatten()]\n",
    "print [x for x in test_orth.iloc[:,:2].values.flatten() if x in train_orth.iloc[:,:2].values.flatten()]\n",
    "print [x for x in val_orth.iloc[:,:2].values.flatten() if x in train_orth.iloc[:,:2].values.flatten()]\n"
   ]
  },
  {
   "cell_type": "code",
   "execution_count": 14,
   "metadata": {},
   "outputs": [
    {
     "name": "stdout",
     "output_type": "stream",
     "text": [
      "processing data... this takes a long time.\n",
      "Records converted to onehot: 73429   \r"
     ]
    }
   ],
   "source": [
    "#process and import sequences and save as pickle if needed\n",
    "\n",
    "seqs = \"both\" # promoter, terminator, or both\n",
    "if \"seqs_\"+seqs+\".p\" in os.listdir(wrkdir):\n",
    "    print \"Using existing one-hot files.\"\n",
    "    gene_oh1 = pickle.load(open( wrkdir+\"/seqs_\"+seqs+\".p\", \"rb\" ))\n",
    "else:\n",
    "    print \"processing data... this takes a long time.\"\n",
    "    gff3s=[\"Sbicolor_454_v3.1.1.gene_exons.gff3\",\"Zea_mays.AGPv3.31.gff3\"]\n",
    "    genomes=[\"Sbicolor_454_v3.0.1.fa\",\"Zea_mays.AGPv3.31.dna.toplevel.fa\"]\n",
    "    genome_paths=[]\n",
    "    gff3_paths=[]\n",
    "    for num in range(0,len(gff3s)):\n",
    "        gff3_paths.append(wrkdir+gff3s[num])\n",
    "        genome_paths.append(wrkdir+genomes[num])\n",
    "    #print gff3_paths\n",
    "    #print genome_paths\n",
    "    gene_oh1 = extSeq.extract_seqs_from_ref_pro_term_both(genome_paths,gff3_paths,regions=seqs, save_fastq=True, lengths=[1000,500],wrkdir=wrkdir)\n",
    "    pickle.dump(gene_oh1, open( wrkdir+\"/seqs_\"+seqs+\".p\", \"wb\" ))"
   ]
  },
  {
   "cell_type": "code",
   "execution_count": 15,
   "metadata": {
    "collapsed": true
   },
   "outputs": [],
   "source": [
    "def make_pairwise_tensor_sb_zm(gene_oh, joint_orthos, pad, perc_diff_CO, do_flips, bth_directions, balance):\n",
    "    x_value=[]\n",
    "    y_value=[]\n",
    "    droped=[]\n",
    "    padding=np.zeros((pad,5)).astype('int8')\n",
    "    pairs_val=[]\n",
    "    for line in range(0,len(joint_orthos)):\n",
    "        #print joint_orthos.iloc[line,:]\n",
    "        ln_list=joint_orthos.iloc[line,:].tolist()\n",
    "        gene1, gene2 = ln_list[0], ln_list[1]\n",
    "        val1, val2 = ln_list[2], ln_list[3]\n",
    "        if gene1 not in gene_oh:continue\n",
    "        if gene_oh1[gene1][:,4].mean() > 0 :continue\n",
    "        if gene2 not in gene_oh:continue\n",
    "        if gene_oh1[gene2][:,4].mean() > 0 :continue\n",
    "        #print gene1, gene2, val1, val2\n",
    "        diff = val1-val2\n",
    "        if abs(diff) < perc_diff_CO: \n",
    "            droped.append([gene1,gene2])\n",
    "            continue\n",
    "        if diff > 0: up_dwn = 1\n",
    "        if diff < 0: up_dwn = 0\n",
    "        #add sequences to x train tensor\n",
    "        first={\"fwd\":gene_oh[gene1], \"rev\":np.flip(gene_oh[gene1], axis=0)}\n",
    "        second={\"fwd\":gene_oh[gene2], \"rev\":np.flip(gene_oh[gene2], axis=0)}\n",
    "        if do_flips==True:\n",
    "            flps=[\"fwd\",\"rev\"]\n",
    "        else:\n",
    "            flps=[\"fwd\"]\n",
    "        for rot1 in flps:\n",
    "            for rot2 in flps:\n",
    "                pairs_val.append([gene1, gene2, val1, val2, rot1, rot2, diff,up_dwn])\n",
    "                y_value.append(up_dwn)\n",
    "                pair_mtx = np.concatenate([first[rot1],padding,second[rot2]])\n",
    "                x_value.append(pair_mtx)\n",
    "    x_value=np.array(x_value)\n",
    "    y_value=np.array(y_value)\n",
    "    pairs_vals=pd.DataFrame(pairs_val,columns=[\"gene1\", \"gene2\", \"val1\", \"val2\", \"rotation1\",\"rotation2\"\n",
    "                                               ,\"diff\", \"up_dwn\"])\n",
    "    print x_value.shape, y_value.shape, len(droped), pairs_vals[\"up_dwn\"].mean()\n",
    "    if balance==\"dwn\":   \n",
    "        x_dummy=[x for x in range(0,len(x_value))]\n",
    "        x_dummy=np.array(x_dummy).reshape(-1,1)\n",
    "        rus = RandomUnderSampler(return_indices=True)\n",
    "        X_resampled, y_resampled, idx_resampled = rus.fit_sample(x_dummy, y_value)\n",
    "        #print X_resampled.shape, y_resampled.mean()\n",
    "        x_value=x_value[idx_resampled]\n",
    "        y_value=y_value[idx_resampled]\n",
    "        pairs_vals=pairs_vals.loc[idx_resampled].reset_index(drop=True)\n",
    "        print x_value.shape, y_value.shape, len(droped), pairs_vals[\"up_dwn\"].mean()\n",
    "    elif balance==\"up\":\n",
    "        x_dummy=[x for x in range(0,len(x_value))]\n",
    "        x_dummy=np.array(x_dummy).reshape(-1,1)\n",
    "        ros = RandomOverSampler()\n",
    "        ros = RandomOverSampler()\n",
    "        X_resampled, y_resampled = ros.fit_sample(x_dummy, y_value)\n",
    "        #print X_resampled.shape, y_resampled.mean()\n",
    "        x_value=x_value[X_resampled.flatten()]\n",
    "        y_value=y_value[X_resampled.flatten()]\n",
    "        pairs_vals=pairs_vals.loc[X_resampled.flatten()].reset_index(drop=True)\n",
    "        print x_value.shape, y_value.shape, len(droped), pairs_vals[\"up_dwn\"].mean()\n",
    "    elif balance==\"none\": None\n",
    "    else: print \"There are three options for balancing your dataset: 'dwn', 'up', 'none'.\"\n",
    "    if bth_directions:\n",
    "        new_x_value=[]\n",
    "        new_y_value=[]\n",
    "        new_pairs_vals=[]\n",
    "        for row in range(0,len(x_value)):\n",
    "            first = x_value[row][:(x_value[row].shape[0]-pad)/2]\n",
    "            second = x_value[row][((x_value[row].shape[0]-pad)/2+pad):]\n",
    "            #print first.shape,second.shape\n",
    "            pair_mtx = np.concatenate([second,padding,first])\n",
    "            new_x_value.append(pair_mtx)\n",
    "            if y_value[row]==1:\n",
    "                new_y_value.append(0)\n",
    "                up_dwn = 0\n",
    "            if y_value[row]==0:\n",
    "                new_y_value.append(1)\n",
    "                up_dwn = 1\n",
    "            gene1 = pairs_vals.iloc[row,0]\n",
    "            gene2 = pairs_vals.iloc[row,1]\n",
    "            val1 = pairs_vals.iloc[row,2]\n",
    "            val2 = pairs_vals.iloc[row,3]\n",
    "            rot1 = pairs_vals.iloc[row,4]\n",
    "            rot2 = pairs_vals.iloc[row,5]\n",
    "            diff = (pairs_vals.iloc[row,6]*-1)\n",
    "            new_pairs_vals.append([gene2, gene1, val2, val1, rot2, rot1, diff,up_dwn])\n",
    "        new_x_value=np.array(new_x_value)\n",
    "        x_value = np.concatenate((x_value,new_x_value))\n",
    "        new_y_value=np.array(new_y_value)\n",
    "        y_value = np.concatenate((y_value,new_y_value))\n",
    "        new_pairs_vals = pd.DataFrame(new_pairs_vals,columns=[\"gene1\", \"gene2\", \"val1\", \"val2\", \"rotation1\",\"rotation2\",\"diff\", \"up_dwn\"])\n",
    "        pairs_vals = pd.concat([pairs_vals,new_pairs_vals],axis=0).reset_index(drop=True)\n",
    "        print x_value.shape, y_value.shape, len(droped), pairs_vals[\"up_dwn\"].mean()\n",
    "    return x_value, y_value, pairs_vals"
   ]
  },
  {
   "cell_type": "code",
   "execution_count": 16,
   "metadata": {},
   "outputs": [
    {
     "name": "stdout",
     "output_type": "stream",
     "text": [
      "pro_term1.5_sb_zm_SC_CO2k_fold1rep1\n",
      "(2568, 6030, 5) (2568,) 5083 0.436137071651\n",
      "(2240, 6030, 5) (2240,) 5083 0.5\n",
      "(4480, 6030, 5) (4480,) 5083 0.5\n",
      "(660, 6030, 5) (660,) 1414 0.468181818182\n",
      "(618, 6030, 5) (618,) 1414 0.5\n",
      "(1236, 6030, 5) (1236,) 1414 0.5\n",
      "(296, 6030, 5) (296,) 569 0.398648648649\n",
      "(236, 6030, 5) (236,) 569 0.5\n",
      "(472, 6030, 5) (472,) 569 0.5\n"
     ]
    }
   ],
   "source": [
    "print out_prefix\n",
    "pad=30\n",
    "bal=\"dwn\" #\"dwn\", \"up\", \"none\"\n",
    "bth_drc=True\n",
    "rank_change_CO=2000\n",
    "flps=False\n",
    "if sb_zm_pct_rnk.sort_values(by=[\"sorghum_val\"]).iloc[-2:,2].diff().values[1] !=0:\n",
    "    D_rank1=sb_zm_pct_rnk.sort_values(by=[\"sorghum_val\"]).iloc[-2:,2].diff().values[1] #red_ortho_pct.min(numeric_only=True).mean()\n",
    "perc_diff_CO=D_rank1*rank_change_CO\n",
    "x_train, y_train, train_pair_vals = make_pairwise_tensor_sb_zm(gene_oh1, train_orth,pad, perc_diff_CO, do_flips=flps, bth_directions=bth_drc, balance=bal)\n",
    "x_test, y_test, test_pair_vals = make_pairwise_tensor_sb_zm(gene_oh1, test_orth,pad, perc_diff_CO, do_flips=flps, bth_directions=bth_drc, balance=bal)\n",
    "x_val, y_val, val_pair_vals = make_pairwise_tensor_sb_zm(gene_oh1, val_orth,pad, perc_diff_CO, do_flips=flps, bth_directions=bth_drc, balance=bal)"
   ]
  },
  {
   "cell_type": "code",
   "execution_count": null,
   "metadata": {
    "collapsed": true
   },
   "outputs": [],
   "source": [
    "#train_pair_vals[(train_pair_vals[\"gene1\"].isin(genes_w_Ns)) | (train_pair_vals[\"gene2\"].isin(genes_w_Ns))]"
   ]
  },
  {
   "cell_type": "code",
   "execution_count": null,
   "metadata": {
    "collapsed": true
   },
   "outputs": [],
   "source": [
    "plt.hist(train_pair_vals[\"val1\"],normed=True)\n",
    "plt.show()"
   ]
  },
  {
   "cell_type": "code",
   "execution_count": null,
   "metadata": {
    "collapsed": true
   },
   "outputs": [],
   "source": [
    "'''\n",
    "#sanity check\n",
    "gene_oh1_test={}\n",
    "gene_oh1_test[\"test1\"]=np.array([[11,12,13,14,15],[21,22,23,24,25],[31,32,33,34,35]])\n",
    "gene_oh1_test[\"test2\"]=np.array([[41,42,43,44,45],[51,52,53,54,55],[61,62,63,64,65]])\n",
    "gene_oh1_test[\"test3\"]=np.array([[71,72,73,74,75],[81,82,83,84,85],[91,92,93,94,95]])\n",
    "fake_orthos=pd.concat([pd.DataFrame(np.array([[\"test1\",\"test2\",\"test3\"]]),\n",
    "                                    columns=test_orth.columns[:3]),\n",
    "                       pd.DataFrame(np.array([[0.5,0.6,0.7]]),\n",
    "                                    columns=test_orth.columns[3:], dtype='float')],\n",
    "                      axis=1)\n",
    "x_test, y_test, test_pair_vals = make_pairwise_tensors(gene_oh=gene_oh1_test,\n",
    "                                                       ortho_df=fake_orthos, \n",
    "                                                       pad=3,\n",
    "                                                       perc_diff_CO=0,\n",
    "                                                       do_flips=True)\n",
    "'''"
   ]
  },
  {
   "cell_type": "code",
   "execution_count": null,
   "metadata": {
    "collapsed": true
   },
   "outputs": [],
   "source": [
    "def hw_model(in_shape):\n",
    "    model=Sequential()\n",
    "    model.add(Conv2D(64,kernel_size=(8,5),padding='valid',input_shape=in_shape))\n",
    "    model.add(Activation('relu'))\n",
    "    model.add(Conv2D(64,kernel_size=(8,1),padding='same'))\n",
    "    model.add(Activation('relu'))\n",
    "    model.add(MaxPooling2D(pool_size=(8,1),strides=(8,1),padding='same'))\n",
    "    model.add(Dropout(0.25))\n",
    "\n",
    "    model.add(Conv2D(128,kernel_size=(8,1),padding='same'))\n",
    "    model.add(Activation('relu'))\n",
    "    model.add(Conv2D(128,kernel_size=(8,1),padding='same'))\n",
    "    model.add(Activation('relu'))\n",
    "    model.add(MaxPooling2D(pool_size=(8,1),strides=(8,1),padding='same'))\n",
    "    model.add(Dropout(0.25))\n",
    "\n",
    "    model.add(Conv2D(64,kernel_size=(8,1),padding='same'))\n",
    "    model.add(Activation('relu'))\n",
    "    model.add(Conv2D(64,kernel_size=(8,1),padding='same'))\n",
    "    model.add(Activation('relu'))\n",
    "    model.add(MaxPooling2D(pool_size=(8,1),strides=(8,1),padding='same'))\n",
    "    model.add(Dropout(0.25))\n",
    "\n",
    "    model.add(Flatten())\n",
    "    model.add(Dense(128))\n",
    "    model.add(Activation('relu'))\n",
    "    model.add(Dropout(0.25))\n",
    "    model.add(Dense(64))\n",
    "    model.add(Activation('relu'))\n",
    "    model.add(Dense(1))#2))\n",
    "    model.add(Activation('sigmoid'))#'softmax'))\n",
    "    adam1=keras.optimizers.Adam(lr=0.00001)\n",
    "    model.compile(loss='binary_crossentropy', optimizer=adam1, metrics=['accuracy'])\n",
    "    return model"
   ]
  },
  {
   "cell_type": "code",
   "execution_count": null,
   "metadata": {
    "collapsed": true
   },
   "outputs": [],
   "source": [
    "def reshape_tensor(x_tns, y_tns):\n",
    "    #x_tns = x_tns.transpose(0,2,1)\n",
    "    x_tns=x_tns.reshape(x_tns.shape[0], x_tns.shape[1], x_tns.shape[2],1)\n",
    "    #lst=[]\n",
    "    #for x in y_tns:\n",
    "    #    if x == 0: lst.append(np.array([0,1]))\n",
    "    #    if x == 1: lst.append(np.array([1,0]))\n",
    "    #y_tns=np.array(lst)\n",
    "    print x_tns.shape, y_tns.shape\n",
    "    return x_tns, y_tns"
   ]
  },
  {
   "cell_type": "code",
   "execution_count": null,
   "metadata": {
    "collapsed": true
   },
   "outputs": [],
   "source": [
    "x_test, y_test = reshape_tensor(x_test, y_test)\n",
    "x_train, y_train = reshape_tensor(x_train, y_train)\n",
    "x_val, y_val = reshape_tensor(x_val, y_val)"
   ]
  },
  {
   "cell_type": "code",
   "execution_count": null,
   "metadata": {
    "collapsed": true
   },
   "outputs": [],
   "source": [
    "model = hw_model(in_shape=x_train.shape[1:])"
   ]
  },
  {
   "cell_type": "code",
   "execution_count": null,
   "metadata": {
    "collapsed": true,
    "scrolled": true
   },
   "outputs": [],
   "source": [
    "#model.summary()"
   ]
  },
  {
   "cell_type": "code",
   "execution_count": null,
   "metadata": {
    "collapsed": true
   },
   "outputs": [],
   "source": [
    "#shuffle tensors\n",
    "rand=list(xrange(0,len(y_train)))\n",
    "random.shuffle(rand)\n",
    "rand_val=list(xrange(0,len(y_val)))\n",
    "random.shuffle(rand_val)"
   ]
  },
  {
   "cell_type": "code",
   "execution_count": null,
   "metadata": {
    "collapsed": true,
    "scrolled": true
   },
   "outputs": [],
   "source": [
    "batchSize=50\n",
    "erl_stop = EarlyStopping(monitor='val_acc', min_delta=0, patience=30, verbose=0, mode='max')\n",
    "hist = model.fit(x_train[rand], y_train[rand], epochs=1000, validation_data=[x_val[rand_val],y_val[rand_val]], batch_size=batchSize, verbose=1, shuffle=True, \n",
    "                callbacks=[erl_stop])"
   ]
  },
  {
   "cell_type": "code",
   "execution_count": null,
   "metadata": {
    "collapsed": true
   },
   "outputs": [],
   "source": [
    "def eval_and_plot_ROC(model, hist, x_test, y_test, out_name):\n",
    "    #get stats on all sets\n",
    "    evalu_trn = model.evaluate(x_train, y_train, batch_size=batchSize, verbose=1)\n",
    "    tmp = model.predict_proba(x_train,batch_size=batchSize)\n",
    "    auc_trn = roc_auc_score(y_train, tmp)\n",
    "\n",
    "    evalu_val = model.evaluate(x_val, y_val, batch_size=batchSize, verbose=1)\n",
    "    tmp = model.predict_proba(x_val,batch_size=batchSize)\n",
    "    auc_val = roc_auc_score(y_val, tmp)\n",
    "\n",
    "    evalu = model.evaluate(x_test, y_test, batch_size=batchSize, verbose=1)\n",
    "    y_test_pred = model.predict_proba(x_test,batch_size=batchSize)\n",
    "    auc = roc_auc_score(y_test, y_test_pred)\n",
    "    fpr, tpr, thresholds = roc_curve(y_test, y_test_pred, pos_label=1)\n",
    "    average_precision = average_precision_score(y_test, y_test_pred)\n",
    "    stats=pd.DataFrame({\"tissues\":out_name, \"acc_trn\":evalu_trn[1], \"auc_trn\":auc_trn, \"acc_val\":evalu_val[1], \"auc_val\":auc_val,\n",
    "                        \"acc_tst\":evalu[1], \"auc_tst\":auc, \"avgPrecision\":average_precision, \"sb_zm_bal\":np.mean(y_test),\"pred_sb_zm_bal\":np.mean(y_test_pred),\"n\":len(x_test)}, index=[0])\n",
    "    stats=stats[[\"tissues\", \"acc_trn\", \"auc_trn\", \"acc_tst\", \"auc_tst\", \"avgPrecision\", \"acc_val\", \"auc_val\",\"sb_zm_bal\",\"pred_sb_zm_bal\",\"n\"]]\n",
    "    print (stats)\n",
    "    stats.to_csv(figs_dir+\"All_model_stats_sb_zm_sum_C2D_10reps.txt\",mode='a')   \n",
    "    #'''\n",
    "    plt.plot([0, 1], [0, 1], linestyle='--', lw=2, color='r', label='Chance', alpha=.8)\n",
    "    plt.plot(fpr, tpr, color='b', \n",
    "             label=\"Test ROC\\n(AUC = \"+str(round(auc,3))+\", r = \"+str(round(evalu[1],3))+\", r2 = \"+str(round(evalu[1]**2,3))+\")\",\n",
    "             lw=2, alpha=.8)\n",
    "    plt.xlabel('False Positive Rate')\n",
    "    plt.ylabel('True Positive Rate')\n",
    "    plt.title('Receiver operating characteristic')\n",
    "    plt.legend(loc=\"lower right\")\n",
    "    plt.savefig(out_name+\"_ROC.eps\")\n",
    "    plt.show()\n",
    "    plt.close()\n",
    "    \n",
    "    #precision recall\n",
    "    precision, recall, _ = precision_recall_curve(y_test, y_test_pred)\n",
    "    plt.step(recall, precision, color='b', alpha=0.2,\n",
    "             where='post')\n",
    "    plt.fill_between(recall, precision, step='post', alpha=0.2,\n",
    "                     color='b')\n",
    "    plt.xlabel('Recall')\n",
    "    plt.ylabel('Precision')\n",
    "    plt.ylim([0.0, 1.05])\n",
    "    plt.xlim([0.0, 1.0])\n",
    "    plt.title('Precision-Recall curve: AP={0:0.2f}'.format(\n",
    "              average_precision))\n",
    "    plt.savefig(out_name+\"_Precision_recall.eps\")\n",
    "    plt.show()\n",
    "    plt.close()\n",
    "    #'''\n",
    "    \n",
    "    # Plot training history\n",
    "    accuracy_train = hist.history['acc']\n",
    "    accuracy_val = hist.history['val_acc']\n",
    "\n",
    "    plt.plot(accuracy_train, color='g', label='Training')\n",
    "    plt.plot(accuracy_val, color='b', label='Validation')\n",
    "    plt.xlabel('Epoch')\n",
    "    plt.ylabel(\"accuracy\")\n",
    "    plt.legend(loc='best')\n",
    "    plt.savefig(out_name+\"_trn_hist.eps\")\n",
    "    plt.show()\n",
    "    plt.close()\n",
    "    \n",
    "    # Plot training history - loss\n",
    "    accuracy_train = hist.history['loss']\n",
    "    accuracy_val = hist.history['val_loss']\n",
    "\n",
    "    plt.plot(accuracy_train, color='g', label='Training')\n",
    "    plt.plot(accuracy_val, color='b', label='Validation')\n",
    "    plt.xlabel('Epoch')\n",
    "    plt.ylabel(\"loss\")\n",
    "    plt.legend(loc='best')\n",
    "    plt.savefig(out_name+\"_trn_hist_loss.eps\")\n",
    "    plt.show()\n",
    "    plt.close()\n",
    "    \n",
    "    return y_test_pred"
   ]
  },
  {
   "cell_type": "code",
   "execution_count": null,
   "metadata": {
    "collapsed": true
   },
   "outputs": [],
   "source": [
    "figs_dir=\"../figs/\"\n",
    "y_test_pred = eval_and_plot_ROC(model, hist, x_test, y_test, figs_dir+out_prefix+\"fold\"+str(fold_num))"
   ]
  },
  {
   "cell_type": "code",
   "execution_count": null,
   "metadata": {
    "collapsed": true,
    "scrolled": true
   },
   "outputs": [],
   "source": [
    "#shuffle y_test\n",
    "rand1=range(0,len(y_test))\n",
    "random.shuffle(rand1)\n",
    "_ = eval_and_plot_ROC(model, hist, x_test, y_test[rand1], figs_dir+out_prefix+\"fold\"+str(fold_num)+\"y_shuff\")"
   ]
  },
  {
   "cell_type": "code",
   "execution_count": null,
   "metadata": {
    "collapsed": true
   },
   "outputs": [],
   "source": [
    "def single_nuc_shuffle(x_test, pad):\n",
    "    #shuffle tensor values by single nucliotide\n",
    "    size = (x_test.shape[1]-pad)/2\n",
    "    padding = np.zeros((pad,5,1)).astype('int8')\n",
    "    x_value=[]\n",
    "    for num in range(0,len(x_test)):\n",
    "        first=x_test[num][:size].copy()\n",
    "        second=x_test[num][size+pad:].copy()\n",
    "        np.random.shuffle(first)\n",
    "        np.random.shuffle(second)\n",
    "        #print first.shape, pad.shape, second.shape\n",
    "        x_test_SN_shufl=np.concatenate([first.copy(),padding,second.copy()])\n",
    "        x_value.append(x_test_SN_shufl)\n",
    "        if np.array_equal(x_test[num],x_test_SN_shufl):\n",
    "            print \"SHUFFLE NOT WORKING\"\n",
    "        if x_test[num].shape[0] != x_test_SN_shufl.shape[0]:\n",
    "            print \"ERROR\"\n",
    "    x_value=np.array(x_value)\n",
    "    return x_value"
   ]
  },
  {
   "cell_type": "code",
   "execution_count": null,
   "metadata": {
    "collapsed": true
   },
   "outputs": [],
   "source": [
    "#Single nucliotide shuffle\n",
    "x_test_SNS = single_nuc_shuffle(x_test, pad)\n",
    "x_test_SNS=x_test_SNS.reshape(x_test_SNS.shape[0], x_test_SNS.shape[1], x_test_SNS.shape[2],1)\n",
    "_ = eval_and_plot_ROC(model, hist, x_test_SNS, y_test, figs_dir+out_prefix+\"fold\"+str(fold_num)+\"SNS\")"
   ]
  },
  {
   "cell_type": "code",
   "execution_count": null,
   "metadata": {
    "collapsed": true
   },
   "outputs": [],
   "source": [
    "#Di-nucliotide shuffle\n",
    "# In order to rumn the di-nucliotide shuffle you should follow the instructions near the bottom of\n",
    "# \"Extract_sequences_from_ref.py\".  This process takes some time and is not needed for most analyses.\n",
    "\n",
    "#gene_oh1 = pickle.load(open( \"../../../../data/gene_oh1_pro_term1.5kb_shuffled.p\", \"rb\" ))\n",
    "#x_test_DNS, y_testDNS, test_pairs_valsDNS = make_pairwise_tensor_sb_zm(gene_oh1, test_orth,pad, perc_diff_CO, do_flips=False, bth_directions=bth_drc, balance=bal)\n",
    "#x_test_DNS = x_test_DNS.reshape(x_test_DNS.shape[0], x_test_DNS.shape[1], x_test_DNS.shape[2],1)\n",
    "#print np.array_equal(y_testDNS, y_test)\n",
    "#_ = eval_and_plot_ROC(model, hist, x_test_DNS, y_test, figs_dir+out_prefix+\"fold\"+str(fold_num)+\"DNS\")"
   ]
  },
  {
   "cell_type": "code",
   "execution_count": null,
   "metadata": {
    "collapsed": true
   },
   "outputs": [],
   "source": [
    "def prob_CO_tests(x_test, y_test, test_pair_vals, prob_cutoff):\n",
    "    test_prob = pd.DataFrame(model.predict_proba(x_test,batch_size=batchSize))\n",
    "    #prob_cutoff=0.7\n",
    "    pls_minus=(1-prob_cutoff)/2\n",
    "    high=1-pls_minus\n",
    "    low=pls_minus\n",
    "    prob_idx = test_prob[(test_prob[0]>high)|(test_prob[0]<low)].index\n",
    "    #evalu_prob_co = model.evaluate(x_test[prob_idx], y_test[prob_idx], batch_size=batchSize, verbose=0)\n",
    "    print high, low, len(prob_idx)\n",
    "    if len(prob_idx) > 0:\n",
    "        if np.mean(y_test[prob_idx]) not in [0,1]:\n",
    "            _ = eval_and_plot_ROC(model, hist, x_test[prob_idx], y_test[prob_idx], figs_dir+out_prefix+\"fold\"+str(fold_num)+\"prob_CO\"+str(prob_cutoff))\n",
    "    return test_pair_vals.loc[prob_idx]"
   ]
  },
  {
   "cell_type": "code",
   "execution_count": null,
   "metadata": {
    "collapsed": true
   },
   "outputs": [],
   "source": [
    "#predict with various probablity cutoffs\n",
    "for probCO in [0.15,0.25,0.5,0.65,0.75]:\n",
    "    test_pair_vals_red = prob_CO_tests(x_test, y_test, test_pair_vals, prob_cutoff=probCO)"
   ]
  },
  {
   "cell_type": "code",
   "execution_count": null,
   "metadata": {
    "collapsed": true
   },
   "outputs": [],
   "source": [
    "def save_data_for_sal_map(model,x_tensor,val_pairs,batch_size,out_dir_prefix):\n",
    "    model_path=out_dir_prefix+'.h5'\n",
    "    model.save(model_path)\n",
    "    data_path=out_dir_prefix+\"_tmp_tensor_data.p\"\n",
    "    pickle.dump([x_tensor, val_pairs], open(data_path, \"wb\" ))\n",
    "    out_path=out_dir_prefix+\"_saliency_map_data.csv\"\n",
    "    print 'model_path=\"'+model_path+'\"'\n",
    "    print 'data_path=\"'+data_path+'\"'\n",
    "    print 'out_path=\"'+out_path+'\"'"
   ]
  },
  {
   "cell_type": "code",
   "execution_count": null,
   "metadata": {
    "collapsed": true
   },
   "outputs": [],
   "source": [
    "save_data_for_sal_map(model,x_test,test_pair_vals,100,wrkdir+out_prefix+\"fold\"+str(fold_num))"
   ]
  },
  {
   "cell_type": "code",
   "execution_count": null,
   "metadata": {
    "collapsed": true
   },
   "outputs": [],
   "source": []
  }
 ],
 "metadata": {
  "kernelspec": {
   "display_name": "Python 2",
   "language": "python",
   "name": "python2"
  },
  "language_info": {
   "codemirror_mode": {
    "name": "ipython",
    "version": 2
   },
   "file_extension": ".py",
   "mimetype": "text/x-python",
   "name": "python",
   "nbconvert_exporter": "python",
   "pygments_lexer": "ipython2",
   "version": "2.7.13"
  }
 },
 "nbformat": 4,
 "nbformat_minor": 2
}
